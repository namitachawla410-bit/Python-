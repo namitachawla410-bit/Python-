{
 "cells": [
  {
   "cell_type": "code",
   "execution_count": 20,
   "id": "4520938b-106a-4d19-aec6-a389bf029f43",
   "metadata": {},
   "outputs": [
    {
     "name": "stdout",
     "output_type": "stream",
     "text": [
      "This book is best for python.\n",
      "This book is published by author.\n"
     ]
    }
   ],
   "source": [
    "#Escape characters in  python \n",
    "#\\n for new line\n",
    "print(\"This book is best for python.\\nThis book is published by author.\")"
   ]
  },
  {
   "cell_type": "code",
   "execution_count": 21,
   "id": "1835c806-ea5e-4b11-aa7a-9017cd44492e",
   "metadata": {},
   "outputs": [
    {
     "name": "stdout",
     "output_type": "stream",
     "text": [
      "This book is best for python.\tThis book is published by author.\n"
     ]
    }
   ],
   "source": [
    "#\\t for tab space\n",
    "print(\"This book is best for python.\\tThis book is published by author.\") "
   ]
  },
  {
   "cell_type": "code",
   "execution_count": 22,
   "id": "54329a8b-bf4d-4b7d-ae16-004085db9976",
   "metadata": {},
   "outputs": [
    {
     "name": "stdout",
     "output_type": "stream",
     "text": [
      "HelloWorld\n"
     ]
    }
   ],
   "source": [
    "#Concatenation (addition)\n",
    "str1 = \"Hello\"\n",
    "str2 = \"World\"\n",
    "print(str1+str2)"
   ]
  },
  {
   "cell_type": "code",
   "execution_count": 23,
   "id": "474f58db-aa70-4b28-b214-f84bc5e4df5b",
   "metadata": {},
   "outputs": [
    {
     "name": "stdout",
     "output_type": "stream",
     "text": [
      "6\n"
     ]
    }
   ],
   "source": [
    "#Length of string\n",
    "a = \"NAMITA\"\n",
    "print(len(a))"
   ]
  },
  {
   "cell_type": "code",
   "execution_count": 26,
   "id": "735fcc6a-0c2e-46d8-aba9-d2e994f771ba",
   "metadata": {},
   "outputs": [
    {
     "name": "stdout",
     "output_type": "stream",
     "text": [
      "Hello World \n",
      "12\n"
     ]
    }
   ],
   "source": [
    "#For space and length\n",
    "a= \"Hello \"\n",
    "b = \"World \"\n",
    "c = (a+\"\"+b)\n",
    "print(c)\n",
    "print(len(c))"
   ]
  },
  {
   "cell_type": "code",
   "execution_count": 32,
   "id": "a1ce5f20-04f5-45ed-9819-f22a19afeecf",
   "metadata": {},
   "outputs": [
    {
     "name": "stdout",
     "output_type": "stream",
     "text": [
      "t\n",
      "A\n",
      "A\n",
      "N\n"
     ]
    }
   ],
   "source": [
    "#Indexing\n",
    "a = \"Namita ChawlA\"\n",
    "print(a[4])\n",
    "print(a[12])\n",
    "print(a[-1])\n",
    "print(a[0])"
   ]
  },
  {
   "cell_type": "code",
   "execution_count": 37,
   "id": "8fab51ef-49b3-488f-914d-148e28e1b9cd",
   "metadata": {},
   "outputs": [
    {
     "name": "stdout",
     "output_type": "stream",
     "text": [
      "Saloni chawl\n",
      "aloni ch\n",
      "loni chawl\n",
      "Saloni chaw\n",
      "aloni chawla\n",
      "Saloni chawla\n"
     ]
    }
   ],
   "source": [
    "#Slicing in string  Index pass krna \n",
    "a = \"Saloni chawla\"\n",
    "print(a[0:-1])\n",
    "print(a[1:9])\n",
    "print(a[2:-1])\n",
    "print(a[:11])\n",
    "print(a[1:])\n",
    "print(a[0:len(a)])"
   ]
  },
  {
   "cell_type": "code",
   "execution_count": 42,
   "id": "6712717f-9c04-4520-bf65-ea4a8b8d879f",
   "metadata": {},
   "outputs": [
    {
     "name": "stdout",
     "output_type": "stream",
     "text": [
      "True\n",
      "False\n"
     ]
    }
   ],
   "source": [
    "# string functions\n",
    "a = \"Namita chawla\"\n",
    "print(a.endswith(\"la\"))  \n",
    "print(a.endswith(\"na\"))"
   ]
  },
  {
   "cell_type": "code",
   "execution_count": 46,
   "id": "97a8a50e-1ae4-4a3f-8dc4-5edc5bc8038c",
   "metadata": {},
   "outputs": [
    {
     "name": "stdout",
     "output_type": "stream",
     "text": [
      "Namita chawla\n"
     ]
    }
   ],
   "source": [
    "a = \"Namita chawla\"\n",
    "print(a.capitalize())"
   ]
  },
  {
   "cell_type": "code",
   "execution_count": 47,
   "id": "d5478ba5-baff-4cc8-8067-26d979d926ff",
   "metadata": {},
   "outputs": [
    {
     "name": "stdout",
     "output_type": "stream",
     "text": [
      "Hella Warld\n"
     ]
    }
   ],
   "source": [
    "a = \"Hello World\"\n",
    "print(a.replace(\"o\",\"a\"))"
   ]
  },
  {
   "cell_type": "code",
   "execution_count": 48,
   "id": "13a7b12e-ab35-40fe-b516-21ed96f249e2",
   "metadata": {},
   "outputs": [
    {
     "name": "stdout",
     "output_type": "stream",
     "text": [
      "Hello namita \n"
     ]
    }
   ],
   "source": [
    "a = \"Hello world \"\n",
    "print(a.replace(\"world\",\"namita\"))"
   ]
  },
  {
   "cell_type": "code",
   "execution_count": 50,
   "id": "2c403c81-f17a-4f23-9c7f-daf3ef273676",
   "metadata": {},
   "outputs": [
    {
     "name": "stdout",
     "output_type": "stream",
     "text": [
      "4\n",
      "2\n"
     ]
    }
   ],
   "source": [
    "#.find tells the index of word found first if multiple times\n",
    "a = \"hello world\"\n",
    "print(a.find(\"o\"))\n",
    "print(a.count(\"o\"))   # count no. of times that word exists"
   ]
  },
  {
   "cell_type": "code",
   "execution_count": 53,
   "id": "b7bb53bd-9dd6-4021-8c9e-e29b931c22f2",
   "metadata": {},
   "outputs": [
    {
     "name": "stdin",
     "output_type": "stream",
     "text": [
      "enter your name: namita\n"
     ]
    },
    {
     "name": "stdout",
     "output_type": "stream",
     "text": [
      "length of my name is: 6\n"
     ]
    }
   ],
   "source": [
    "#program for writing name and print its length\n",
    "a = input(\"enter your name:\")\n",
    "print(\"length of my name is:\",len(a))"
   ]
  },
  {
   "cell_type": "code",
   "execution_count": 54,
   "id": "589db3c7-3efa-4b07-b66c-a66edb15aa91",
   "metadata": {},
   "outputs": [
    {
     "name": "stdout",
     "output_type": "stream",
     "text": [
      "2\n"
     ]
    }
   ],
   "source": [
    "#program for count $\n",
    "a = \"18.88$ from usa $\"\n",
    "print(a.count(\"$\"))"
   ]
  },
  {
   "cell_type": "code",
   "execution_count": 55,
   "id": "3c826c00-5680-49a9-aaca-9fdcb9098aa5",
   "metadata": {},
   "outputs": [
    {
     "name": "stdout",
     "output_type": "stream",
     "text": [
      "you are eligible for licence.\n"
     ]
    }
   ],
   "source": [
    "# Conditional statements\n",
    "age = 25\n",
    "if age >= 18:\n",
    "    print(\"you are eligible for licence.\")\n",
    "else:\n",
    "    print(\"you are not eligible for licence .\")\n",
    " \n"
   ]
  },
  {
   "cell_type": "code",
   "execution_count": 57,
   "id": "cb4931d9-8137-43f5-b859-1a829543e2e6",
   "metadata": {},
   "outputs": [
    {
     "name": "stdout",
     "output_type": "stream",
     "text": [
      "you are not eligible for exam.\n",
      "end of code\n"
     ]
    }
   ],
   "source": [
    "age = 10\n",
    "if age >=18:\n",
    "    print(\"you are eligible for exam.\")\n",
    "elif age >=9:\n",
    "    print(\"you are not eligible for exam.\")\n",
    "else :\n",
    "    print(\"not eligible\")\n",
    "print(\"end of code\")\n",
    "    "
   ]
  },
  {
   "cell_type": "code",
   "execution_count": 58,
   "id": "78aa0f96-b712-4281-a5d5-7eb65d1d06e3",
   "metadata": {},
   "outputs": [
    {
     "name": "stdout",
     "output_type": "stream",
     "text": [
      "you can drive\n",
      "light is green\n"
     ]
    }
   ],
   "source": [
    "# if condition check always ..elif check when if false...otherwise else\n",
    "light =\"green\"\n",
    "if light ==\"green\":\n",
    "    print(\"you can drive\")\n",
    "if light == \"green\":\n",
    "    print(\"light is green\")\n",
    "else:\n",
    "    print(\"light is yellow \")\n",
    "    "
   ]
  },
  {
   "cell_type": "code",
   "execution_count": 62,
   "id": "51b399bd-773b-47ca-b994-ce8accc235e1",
   "metadata": {},
   "outputs": [
    {
     "name": "stdout",
     "output_type": "stream",
     "text": [
      "not eligible\n"
     ]
    }
   ],
   "source": [
    "#Nesting condition \n",
    "age = 25\n",
    "if age <=27:\n",
    "    if age== 22:\n",
    "        print(\"you are eligible for this exam .\")\n",
    "    else:\n",
    "        print(\"not eligible\")"
   ]
  },
  {
   "cell_type": "code",
   "execution_count": 65,
   "id": "2f2419c4-2654-4041-a43e-065ffdc8f7e6",
   "metadata": {},
   "outputs": [
    {
     "name": "stdin",
     "output_type": "stream",
     "text": [
      "enter the number: 12\n"
     ]
    },
    {
     "name": "stdout",
     "output_type": "stream",
     "text": [
      "even\n"
     ]
    }
   ],
   "source": [
    "#For checking number is even or odd \n",
    "a =int(input(\"enter the number:\"))\n",
    "if a %2  == 0 :\n",
    "    print(\"even\")\n",
    "else:\n",
    "    print(\"odd\")"
   ]
  },
  {
   "cell_type": "code",
   "execution_count": 66,
   "id": "7721b6d0-232b-4138-a2f9-5cb613d616d9",
   "metadata": {},
   "outputs": [
    {
     "name": "stdin",
     "output_type": "stream",
     "text": [
      "enter the number: 49\n"
     ]
    },
    {
     "name": "stdout",
     "output_type": "stream",
     "text": [
      "a is multiple of 7.\n"
     ]
    }
   ],
   "source": [
    "#number is multiple of 7 or not \n",
    "a = int(input(\"enter the number:\"))\n",
    "if a%7 == 0 :\n",
    "    print(\"a is multiple of 7.\")\n",
    "else:\n",
    "    print(\"a is not a multiple of 7.\")"
   ]
  },
  {
   "cell_type": "code",
   "execution_count": 67,
   "id": "d3511926-7d5b-409d-ae1f-cd8c4389c1dc",
   "metadata": {},
   "outputs": [
    {
     "name": "stdin",
     "output_type": "stream",
     "text": [
      "enter the first number: 19\n",
      "enterthe second number: 23\n",
      "enter the third number: 20\n"
     ]
    },
    {
     "name": "stdout",
     "output_type": "stream",
     "text": [
      "23\n"
     ]
    }
   ],
   "source": [
    "#for checking greatest number from three\n",
    "a = int(input(\"enter the first number:\"))\n",
    "b = int(input(\"enterthe second number:\"))\n",
    "c = int(input(\"enter the third number:\"))\n",
    "if a>b and a>c:\n",
    "    print(a)\n",
    "elif b>a and b>c :\n",
    "    print(b)\n",
    "else:\n",
    "    print(c)"
   ]
  },
  {
   "cell_type": "code",
   "execution_count": null,
   "id": "828e7439-245b-42dc-a170-9d807179cda6",
   "metadata": {},
   "outputs": [],
   "source": []
  }
 ],
 "metadata": {
  "kernelspec": {
   "display_name": "Python 3 (ipykernel)",
   "language": "python",
   "name": "python3"
  },
  "language_info": {
   "codemirror_mode": {
    "name": "ipython",
    "version": 3
   },
   "file_extension": ".py",
   "mimetype": "text/x-python",
   "name": "python",
   "nbconvert_exporter": "python",
   "pygments_lexer": "ipython3",
   "version": "3.13.5"
  }
 },
 "nbformat": 4,
 "nbformat_minor": 5
}
