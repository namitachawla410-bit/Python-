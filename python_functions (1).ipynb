{
 "cells": [
  {
   "cell_type": "code",
   "execution_count": 1,
   "id": "802330cb-3830-4a5f-ac21-7ca6ba6f8e08",
   "metadata": {},
   "outputs": [],
   "source": [
    "#functions"
   ]
  },
  {
   "cell_type": "code",
   "execution_count": 13,
   "id": "346a7f64-d588-4567-a75c-3e0d06ff915b",
   "metadata": {},
   "outputs": [
    {
     "name": "stdout",
     "output_type": "stream",
     "text": [
      "-33\n",
      "22\n",
      "-7\n",
      "200\n"
     ]
    }
   ],
   "source": [
    "def subtraction(a,b,c=0,d=0,e=0,f=0,u=0):\n",
    "    return (a-b-c-d-e-f-u)\n",
    "x=subtraction(3,4,7,9,3,5,8)\n",
    "y=subtraction(44,22)\n",
    "z=subtraction(3,10)\n",
    "i=subtraction(323,123)\n",
    "print(x)\n",
    "print(y)\n",
    "print(z)\n",
    "print(i)"
   ]
  },
  {
   "cell_type": "code",
   "execution_count": 6,
   "id": "868d219b-e498-4565-80be-437f81c40011",
   "metadata": {},
   "outputs": [
    {
     "name": "stdout",
     "output_type": "stream",
     "text": [
      "Hello from a function\n"
     ]
    }
   ],
   "source": [
    "def my_function():\n",
    "  print(\"Hello from a function\")\n",
    "\n",
    "my_function()\n"
   ]
  },
  {
   "cell_type": "code",
   "execution_count": 6,
   "id": "6dab747b-50f5-44c7-af07-ed4cf1b1f963",
   "metadata": {},
   "outputs": [
    {
     "name": "stdout",
     "output_type": "stream",
     "text": [
      "432\n",
      "25\n",
      "79\n"
     ]
    }
   ],
   "source": [
    "def add(a,b,c=0,d=0,e=0,f=0,g=0,h=0):\n",
    "    return(a+b+c+d+e+f+g+h) \n",
    "\n",
    "print(add(12,24,36,48,60,72,84,96))\n",
    "print(add(5,20))\n",
    "print(add(4,67,8))\n"
   ]
  },
  {
   "cell_type": "code",
   "execution_count": 64,
   "id": "6969c144-39b8-44ac-8a64-efeadeeb1901",
   "metadata": {},
   "outputs": [
    {
     "name": "stdout",
     "output_type": "stream",
     "text": [
      "432\n",
      "30\n",
      "84\n"
     ]
    }
   ],
   "source": [
    "# functions using default arguments in whic when there is no value given at specific index use this value \n",
    "def add(a,b,c=0,d=0,e=0,f=0,g=5,h=0):\n",
    "    return(a+b+c+d+e+f+g+h) \n",
    "\n",
    "print(add(12,24,36,48,60,72,84,96))\n",
    "print(add(5,20))\n",
    "print(add(4,67,8))\n"
   ]
  },
  {
   "cell_type": "code",
   "execution_count": 32,
   "id": "ce86cb19-2baa-4fe3-b4a1-a95794be2c42",
   "metadata": {},
   "outputs": [
    {
     "name": "stdout",
     "output_type": "stream",
     "text": [
      "himanshu\n"
     ]
    }
   ],
   "source": [
    "def name():\n",
    "    print(\"himanshu\")\n",
    "\n",
    "name()"
   ]
  },
  {
   "cell_type": "code",
   "execution_count": 14,
   "id": "2dd1afc5-4217-4a96-a760-066f9217df84",
   "metadata": {},
   "outputs": [
    {
     "name": "stdout",
     "output_type": "stream",
     "text": [
      "26\n"
     ]
    }
   ],
   "source": [
    "def add(a,b):\n",
    "    return(a+b)\n",
    "print(add(15,11))"
   ]
  },
  {
   "cell_type": "code",
   "execution_count": 19,
   "id": "8ad5882a-25c0-4881-a634-01ce2d430ec7",
   "metadata": {},
   "outputs": [
    {
     "name": "stdout",
     "output_type": "stream",
     "text": [
      "True\n"
     ]
    }
   ],
   "source": [
    "def is_even(n):\n",
    "    return n % 2==0\n",
    "print(even(18))"
   ]
  },
  {
   "cell_type": "code",
   "execution_count": 22,
   "id": "5dbc47e6-6173-41c6-b889-0613841af8da",
   "metadata": {},
   "outputs": [
    {
     "name": "stdout",
     "output_type": "stream",
     "text": [
      "144\n"
     ]
    }
   ],
   "source": [
    "def square(n):\n",
    "    return n**2\n",
    "print(square(12))"
   ]
  },
  {
   "cell_type": "code",
   "execution_count": 45,
   "id": "ffcba16c-710f-4b6b-b1d4-5cf81a2c9a78",
   "metadata": {},
   "outputs": [
    {
     "name": "stdout",
     "output_type": "stream",
     "text": [
      "False\n"
     ]
    }
   ],
   "source": [
    "def max(a,b,c,d):\n",
    "    \n",
    "    return \n",
    "print(max(5,12,8,9))"
   ]
  },
  {
   "cell_type": "code",
   "execution_count": 39,
   "id": "6b9dc6e2-4b7f-4143-83ea-6dc7da0e0747",
   "metadata": {},
   "outputs": [
    {
     "name": "stdout",
     "output_type": "stream",
     "text": [
      "125\n"
     ]
    }
   ],
   "source": [
    "square= lambda x :x**3\n",
    "print(square(5))\n"
   ]
  },
  {
   "cell_type": "code",
   "execution_count": 40,
   "id": "40fe5143-9201-47e2-aa9d-91ca42e0f761",
   "metadata": {},
   "outputs": [
    {
     "name": "stdout",
     "output_type": "stream",
     "text": [
      "32\n"
     ]
    }
   ],
   "source": [
    "num = lambda n: n**5\n",
    "print(num(2))"
   ]
  },
  {
   "cell_type": "code",
   "execution_count": 1,
   "id": "bfae8d9f-86d4-4bb7-af6f-496753a635e4",
   "metadata": {},
   "outputs": [
    {
     "name": "stdout",
     "output_type": "stream",
     "text": [
      "24.0\n"
     ]
    }
   ],
   "source": [
    "#Find the average of 3 numbers\n",
    "def average(a,b,c):\n",
    "    return(a+b+c)/3\n",
    "print(average(12,24,36))"
   ]
  },
  {
   "cell_type": "code",
   "execution_count": 13,
   "id": "35702abe-6284-4628-9f40-ad83d31dc1c9",
   "metadata": {},
   "outputs": [
    {
     "data": {
      "text/plain": [
       "5"
      ]
     },
     "execution_count": 13,
     "metadata": {},
     "output_type": "execute_result"
    }
   ],
   "source": [
    "#WAF to print the length of a list\n",
    "list1 = [1,2,3,4,5,6,7,8,9,10,21,23,42,56,75,56,55,15,11]\n",
    "list2 = [\"namita \",\"ritu\",\"komal\",\"saloni\",\"gunnu\"]\n",
    "def print_len(list):\n",
    "    return len(list)\n",
    "\n",
    "print_len(list1)\n",
    "print_len(list2)"
   ]
  },
  {
   "cell_type": "code",
   "execution_count": 23,
   "id": "6ae6d694-e508-4e43-b806-ecf8b8980ece",
   "metadata": {},
   "outputs": [
    {
     "name": "stdout",
     "output_type": "stream",
     "text": [
      "apple mango grapes fig cherry strawberry "
     ]
    }
   ],
   "source": [
    "# WAF to print list items in a single line\n",
    "fruits =[\"apple\",\"mango\",\"grapes\",\"fig\",\"cherry\",\"strawberry\"]\n",
    "def print_list(list):\n",
    "    for item in list:\n",
    "        print(item ,end= \" \")\n",
    "\n",
    "print_list(fruits)"
   ]
  },
  {
   "cell_type": "code",
   "execution_count": 2,
   "id": "0f87b410-6839-4915-986f-f3336cb8d4c7",
   "metadata": {},
   "outputs": [
    {
     "name": "stdout",
     "output_type": "stream",
     "text": [
      "720\n"
     ]
    }
   ],
   "source": [
    "# factorial of number n using recursion function\n",
    "def factorial (n):\n",
    "    if n ==1 or n ==0:\n",
    "        return 1\n",
    "    else:\n",
    "        return n*(factorial (n-1))\n",
    "\n",
    "print(factorial(6))\n"
   ]
  },
  {
   "cell_type": "code",
   "execution_count": 15,
   "id": "5391899c-ca64-4394-a594-7fa39b732190",
   "metadata": {},
   "outputs": [
    {
     "name": "stdout",
     "output_type": "stream",
     "text": [
      "[0, 1, 1, 2, 3, 5, 8, 13]\n"
     ]
    }
   ],
   "source": [
    "# Function to generate Fibonacci series up to n terms\n",
    "def fibonacci_series(n):\n",
    "    series = []\n",
    "    a, b = 0, 1\n",
    "    for _ in range(n):\n",
    "        series.append(a)\n",
    "        a, b = b, a + b\n",
    "    return series\n",
    "print(fibonacci_series(8))\n"
   ]
  },
  {
   "cell_type": "code",
   "execution_count": null,
   "id": "294325cd-7430-4732-8b65-7ca281056c93",
   "metadata": {},
   "outputs": [],
   "source": []
  }
 ],
 "metadata": {
  "kernelspec": {
   "display_name": "Python 3 (ipykernel)",
   "language": "python",
   "name": "python3"
  },
  "language_info": {
   "codemirror_mode": {
    "name": "ipython",
    "version": 3
   },
   "file_extension": ".py",
   "mimetype": "text/x-python",
   "name": "python",
   "nbconvert_exporter": "python",
   "pygments_lexer": "ipython3",
   "version": "3.13.5"
  }
 },
 "nbformat": 4,
 "nbformat_minor": 5
}
