{
 "cells": [
  {
   "cell_type": "code",
   "execution_count": 3,
   "id": "41efd9e7-949e-4ca9-b25b-0de2690a9e88",
   "metadata": {},
   "outputs": [
    {
     "name": "stdout",
     "output_type": "stream",
     "text": [
      "<class 'set'>\n"
     ]
    }
   ],
   "source": [
    "a= {1,3,5,7,9}\n",
    "b = {1,5,7,9,4,6}\n",
    "print(type(a))"
   ]
  },
  {
   "cell_type": "code",
   "execution_count": 14,
   "id": "d5f300d4-2c2d-41d3-b110-51bcc88e8e57",
   "metadata": {},
   "outputs": [
    {
     "name": "stdout",
     "output_type": "stream",
     "text": [
      "{1, 2, 3, 4, 5, 6}\n"
     ]
    }
   ],
   "source": [
    "# set store only original value.....duplicate values delete\n",
    "a = {1,3,2,4,5,6,4,2,6,4,3,4,1,3}\n",
    "print(set(a))\n"
   ]
  },
  {
   "cell_type": "code",
   "execution_count": 21,
   "id": "88be4b0c-0b67-4a33-b08a-fe6d2db0f9df",
   "metadata": {},
   "outputs": [
    {
     "name": "stdout",
     "output_type": "stream",
     "text": [
      "{1, 2, 3, 'hello', 4, 5.6, 'abc'}\n",
      "7\n"
     ]
    }
   ],
   "source": [
    "a = {1,3,2,3,2,1,4,3,2,\"hello\",\"abc\",\"hello\",5.6}\n",
    "print(set(a))\n",
    "print(len(a))"
   ]
  },
  {
   "cell_type": "code",
   "execution_count": 20,
   "id": "928ff277-c149-4633-a551-5c6223b6a35a",
   "metadata": {},
   "outputs": [
    {
     "name": "stdout",
     "output_type": "stream",
     "text": [
      "{1, 2, 3, 'hello', 4, 5.6, 'abc'}\n",
      "15\n"
     ]
    }
   ],
   "source": [
    "a = 1,3,2,3,2,1,4,3,2,\"hello\",\"abc\",\"hello\",5.6,2,4\n",
    "print(set(a))\n",
    "print(len(a))\n"
   ]
  },
  {
   "cell_type": "code",
   "execution_count": 16,
   "id": "a0d065c1-c200-4e8d-8080-d398fc2d149a",
   "metadata": {},
   "outputs": [
    {
     "name": "stdout",
     "output_type": "stream",
     "text": [
      "<class 'dict'>\n"
     ]
    }
   ],
   "source": [
    "a ={}\n",
    "print(type(a))"
   ]
  },
  {
   "cell_type": "code",
   "execution_count": 17,
   "id": "30c092c5-9746-418a-91d2-dcb1eab96a7a",
   "metadata": {},
   "outputs": [
    {
     "name": "stdout",
     "output_type": "stream",
     "text": [
      "<class 'set'>\n"
     ]
    }
   ],
   "source": [
    "a =set()\n",
    "print(type(a))"
   ]
  },
  {
   "cell_type": "code",
   "execution_count": 18,
   "id": "5fa04a5b-1236-4848-b931-b038983cd8de",
   "metadata": {},
   "outputs": [
    {
     "name": "stdout",
     "output_type": "stream",
     "text": [
      "{1, 3, 4, 5, 7, 9}\n"
     ]
    }
   ],
   "source": [
    "# .add can add element in set only tuple add...list and dict not added\n",
    "a= {1,3,5,7,9}\n",
    "a.add(4)\n",
    "print(a)\n"
   ]
  },
  {
   "cell_type": "code",
   "execution_count": 19,
   "id": "68e8a31f-e658-43b0-a1ba-0f6160cdbff5",
   "metadata": {},
   "outputs": [
    {
     "name": "stdout",
     "output_type": "stream",
     "text": [
      "{1, 3, 7, 9}\n"
     ]
    }
   ],
   "source": [
    "# .remove can remove  that element in set  \n",
    "a= {1,3,5,7,9}\n",
    "a.remove(5)\n",
    "print(a)"
   ]
  },
  {
   "cell_type": "code",
   "execution_count": 24,
   "id": "c169efb7-b192-4f52-bcfe-8ea89c4de5d6",
   "metadata": {},
   "outputs": [
    {
     "name": "stdout",
     "output_type": "stream",
     "text": [
      "set()\n",
      "0\n"
     ]
    }
   ],
   "source": [
    "# .clear will clear the whole set\n",
    "a = {1,2,3,4,5,6,7,8,9,2,3,3,4,5,6}\n",
    "a.clear()\n",
    "print(a)\n",
    "print(len(a))"
   ]
  },
  {
   "cell_type": "code",
   "execution_count": 27,
   "id": "80effc21-8999-4b71-b3a4-496c47075a05",
   "metadata": {},
   "outputs": [
    {
     "name": "stdout",
     "output_type": "stream",
     "text": [
      "{2, 3, 4, 5, 'hello', 'world'}\n"
     ]
    }
   ],
   "source": [
    "#.pop removes the random value from set i.e. 1st value from set\n",
    "a = {1,2,3,4,5,3,2,1,\"hello\",\"world\",\"hello\"}\n",
    "a.pop()\n",
    "print(a)"
   ]
  },
  {
   "cell_type": "code",
   "execution_count": 30,
   "id": "d049c40b-714b-418e-b582-3f152701c96d",
   "metadata": {},
   "outputs": [
    {
     "name": "stdout",
     "output_type": "stream",
     "text": [
      "{1, 2, 3, 4, 5, 6, 7, 8, 9}\n"
     ]
    }
   ],
   "source": [
    "# set.union combines both value and returns new one\n",
    "a = {1,2,3,4,5,6,7}\n",
    "b = {1,3,5,4,7,9,8,1,4}\n",
    "print(a.union(b))"
   ]
  },
  {
   "cell_type": "code",
   "execution_count": 43,
   "id": "44603e3d-d6a2-482a-b773-c4505234835a",
   "metadata": {},
   "outputs": [
    {
     "name": "stdout",
     "output_type": "stream",
     "text": [
      "{1, 2, 3, 4, 5, 6, 7, 8}\n"
     ]
    }
   ],
   "source": [
    "# set.union combines both value and returns new one(a|b)\n",
    "a = {1,2,3,4,5,6,7}\n",
    "b = {1,3,5,4,7,8,1,4}\n",
    "print(a|b)"
   ]
  },
  {
   "cell_type": "code",
   "execution_count": 31,
   "id": "c459bfb3-635b-4a78-9bc8-9f00af3d9cc2",
   "metadata": {},
   "outputs": [
    {
     "name": "stdout",
     "output_type": "stream",
     "text": [
      "{1, 5, 9}\n"
     ]
    }
   ],
   "source": [
    "#set.intersection returns the common value in both sets\n",
    "a ={1,3,5,7,9}\n",
    "b ={1,5,9,8,2,4}\n",
    "print(a.intersection(b))"
   ]
  },
  {
   "cell_type": "code",
   "execution_count": 41,
   "id": "b3b8473f-1a5f-4e00-90a4-605fe537945a",
   "metadata": {},
   "outputs": [
    {
     "name": "stdout",
     "output_type": "stream",
     "text": [
      "{1, 5, 6, 9}\n"
     ]
    }
   ],
   "source": [
    "#set.intersection returns the common value in both sets(a&b)\n",
    "a ={1,3,5,7,9 ,6}\n",
    "b ={1,5,9,8,2,4,6}\n",
    "print(a&b)"
   ]
  },
  {
   "cell_type": "code",
   "execution_count": 32,
   "id": "ddb8b53b-4045-4f10-b223-c629c9e1efcd",
   "metadata": {},
   "outputs": [
    {
     "name": "stdout",
     "output_type": "stream",
     "text": [
      "{3, 7}\n"
     ]
    }
   ],
   "source": [
    "#(a-b) gives that value which are only in a ...not in b\n",
    "a ={1,3,5,7,9}\n",
    "b ={1,5,9,8,2,4}\n",
    "print(a -b )"
   ]
  },
  {
   "cell_type": "code",
   "execution_count": 34,
   "id": "b2c65a9d-1260-406e-9919-f0ded82a43a7",
   "metadata": {},
   "outputs": [
    {
     "name": "stdout",
     "output_type": "stream",
     "text": [
      "{3, 7}\n"
     ]
    }
   ],
   "source": [
    "#(a-b) gives that value which are only in a ...not in b\n",
    "a ={1,3,5,7,9}\n",
    "b ={1,5,9,8,2,4}\n",
    "print(a.difference(b))"
   ]
  },
  {
   "cell_type": "code",
   "execution_count": 33,
   "id": "b9540d66-0723-432b-8b2d-e85e8c8fed4c",
   "metadata": {},
   "outputs": [
    {
     "name": "stdout",
     "output_type": "stream",
     "text": [
      "{8, 2, 4}\n"
     ]
    }
   ],
   "source": [
    "#(b-a) gives that value which are only in b ....not in a \n",
    "a ={1,3,5,7,9}\n",
    "b ={1,5,9,8,2,4}\n",
    "print(b -a )"
   ]
  },
  {
   "cell_type": "code",
   "execution_count": 35,
   "id": "bf8f482f-11b0-42d3-b310-b3244804bb13",
   "metadata": {},
   "outputs": [
    {
     "name": "stdout",
     "output_type": "stream",
     "text": [
      "{8, 4}\n"
     ]
    }
   ],
   "source": [
    "#(b-a) gives that value which are only in b ....not in a \n",
    "a ={1,3,5,7,9}\n",
    "b ={1,5,9,8,4}\n",
    "print(b.difference(a))"
   ]
  },
  {
   "cell_type": "code",
   "execution_count": 36,
   "id": "089ebe36-2c89-445c-8c2d-2348fd623d0a",
   "metadata": {},
   "outputs": [
    {
     "name": "stdout",
     "output_type": "stream",
     "text": [
      "{2, 3, 8, 9}\n"
     ]
    }
   ],
   "source": [
    "#symmetric difference ...returns elements in either set but not in both\n",
    "a = {1,3,5,7,9,4}\n",
    "b ={1,5,4,7,8,2}\n",
    "print(a^b)"
   ]
  },
  {
   "cell_type": "code",
   "execution_count": 1,
   "id": "0cf8aa21-88fc-4727-817f-e166e74566d4",
   "metadata": {},
   "outputs": [
    {
     "name": "stdout",
     "output_type": "stream",
     "text": [
      "{2, 3, 8, 9}\n"
     ]
    }
   ],
   "source": [
    "#symmetric difference ...returns elements in either set but not in both\n",
    "a = {1,3,5,7,9,4}\n",
    "b ={1,5,4,7,8,2}\n",
    "print(b^a)"
   ]
  },
  {
   "cell_type": "code",
   "execution_count": 38,
   "id": "6581575b-1df3-408d-aaef-dd7ef4a63cd3",
   "metadata": {},
   "outputs": [
    {
     "name": "stdout",
     "output_type": "stream",
     "text": [
      "{2, 3, 8, 9}\n"
     ]
    }
   ],
   "source": [
    "#symmetric difference ...returns elements in either set but not in both\n",
    "a = {1,3,5,7,9,4}\n",
    "b ={1,5,4,7,8,2}\n",
    "print(a.symmetric_difference(b))"
   ]
  },
  {
   "cell_type": "code",
   "execution_count": 3,
   "id": "b9a78d59-59a1-4dda-bf61-5edafdd7ad54",
   "metadata": {},
   "outputs": [
    {
     "name": "stdout",
     "output_type": "stream",
     "text": [
      "{'C', 'python', 'javascript', 'java', 'C++'}\n",
      "5\n"
     ]
    }
   ],
   "source": [
    "subjects = {\"python\",\"java\",\"C++\",\"python\",\"javascript\",\"java\",\"python\",\"java\",\"C++\",\"C\"}\n",
    "print(subjects)\n",
    "print(len(subjects))"
   ]
  },
  {
   "cell_type": "code",
   "execution_count": 9,
   "id": "35086b96-d306-4ca3-86e2-f9aa4ca5c51a",
   "metadata": {},
   "outputs": [
    {
     "name": "stdout",
     "output_type": "stream",
     "text": [
      "{'C', 'python', 'java', 'javascript', 'C++'}\n"
     ]
    }
   ],
   "source": [
    "subjects = [\"python\",\"java\",\"C++\",\"python\",\"javascript\",\"java\",\"python\",\"java\",\"C++\",\"C\"]\n",
    "print(set(subjects))\n"
   ]
  },
  {
   "cell_type": "code",
   "execution_count": 13,
   "id": "9fb0c63e-8911-480d-9b2f-44b0b98bedb4",
   "metadata": {},
   "outputs": [
    {
     "name": "stdout",
     "output_type": "stream",
     "text": [
      "{1, 2, 3, 4, 8, 9, '9.0'}\n"
     ]
    }
   ],
   "source": [
    "# WAP to store 9 and 9.0 differ in a set\n",
    "a = (1,2,3,4,8,9,\"9.0\",8,4,3)\n",
    "print(set(a))"
   ]
  },
  {
   "cell_type": "code",
   "execution_count": null,
   "id": "a1a6ac6f-bb5d-4c69-a886-ddf71b96fa8b",
   "metadata": {},
   "outputs": [],
   "source": []
  }
 ],
 "metadata": {
  "kernelspec": {
   "display_name": "Python 3 (ipykernel)",
   "language": "python",
   "name": "python3"
  },
  "language_info": {
   "codemirror_mode": {
    "name": "ipython",
    "version": 3
   },
   "file_extension": ".py",
   "mimetype": "text/x-python",
   "name": "python",
   "nbconvert_exporter": "python",
   "pygments_lexer": "ipython3",
   "version": "3.13.5"
  }
 },
 "nbformat": 4,
 "nbformat_minor": 5
}
