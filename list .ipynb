{
 "cells": [
  {
   "cell_type": "code",
   "execution_count": 79,
   "id": "80eef1d9-240a-498e-bf15-4327eb657b68",
   "metadata": {},
   "outputs": [
    {
     "name": "stdout",
     "output_type": "stream",
     "text": [
      "86\n",
      "75\n",
      "<class 'list'>\n",
      "8\n",
      "[86, 72, 63, 75]\n",
      "[95, 72, 75, 64]\n",
      "[95, 86, 72, 63, 75, 92.2, 64]\n",
      "[72, 63, 75, 92.2, 64, 87]\n"
     ]
    }
   ],
   "source": [
    "marks = [95,86,72,63,75,92.2,64,87]\n",
    "print(marks[1])\n",
    "print(marks[4])\n",
    "print(type(marks))\n",
    "print(len(marks))\n",
    "print(marks[1:5])\n",
    "print(marks[0:7:2])\n",
    "print(marks[:-1])\n",
    "print(marks[2:])"
   ]
  },
  {
   "cell_type": "code",
   "execution_count": 74,
   "id": "2124707c-58de-4359-8c66-9cec7cbaaf6b",
   "metadata": {},
   "outputs": [
    {
     "name": "stdout",
     "output_type": "stream",
     "text": [
      "namita\n",
      "nikita\n"
     ]
    }
   ],
   "source": [
    "student =[\"namita\", 25, \"hansi\",\"data analytics\"]\n",
    "print(student[0])\n",
    "student[0]= \"nikita\"\n",
    "print(student[0])\n"
   ]
  },
  {
   "cell_type": "code",
   "execution_count": 81,
   "id": "41267455-75b6-49d6-9990-dafb5dff710e",
   "metadata": {},
   "outputs": [
    {
     "name": "stdout",
     "output_type": "stream",
     "text": [
      "[1, 2, 3, 4, 5, 6, 7, 8, 9, 12, 15]\n"
     ]
    }
   ],
   "source": [
    "# list methods    #append means add element in last\n",
    "list = [1,2,3,4,5,6,7,8,9,12]\n",
    "list.append(15)\n",
    "print(list)"
   ]
  },
  {
   "cell_type": "code",
   "execution_count": 84,
   "id": "3a183fe8-7ef0-43c1-9021-8cc004162f6a",
   "metadata": {},
   "outputs": [
    {
     "name": "stdout",
     "output_type": "stream",
     "text": [
      "[1, 2, 3, 4, 8, 9, 15, 7, 14]\n",
      "[15, 14, 9, 8, 7, 4, 3, 2, 1]\n"
     ]
    }
   ],
   "source": [
    "#.sort arrange in ascending order  # .sort(reverse=true) arrange in descending order\n",
    "list  =[1,2,3,4,8,9,15,7,14]\n",
    "list.sort\n",
    "print(list)\n",
    "list.sort(reverse= True)\n",
    "print(list)\n"
   ]
  },
  {
   "cell_type": "code",
   "execution_count": 85,
   "id": "5e5beec4-a698-45e0-a58b-ff53f53fa8c5",
   "metadata": {},
   "outputs": [
    {
     "name": "stdout",
     "output_type": "stream",
     "text": [
      "2\n"
     ]
    }
   ],
   "source": [
    "#.count ...count the no. of times that element came\n",
    "list = [1,2,3,2,4,6,7,17,15,14,17] \n",
    "print(list.count(17))"
   ]
  },
  {
   "cell_type": "code",
   "execution_count": 88,
   "id": "36754ada-ea9e-4b36-a7f3-21da76e1c7d0",
   "metadata": {},
   "outputs": [
    {
     "name": "stdout",
     "output_type": "stream",
     "text": [
      "[1, 2, 12, 3, 4, 5, 6, 7, 8, 9]\n"
     ]
    }
   ],
   "source": [
    "#.insert ...add element at specific index\n",
    "list= [1,2,3,4,5,6,7,8,9]\n",
    "list.insert(2,12)\n",
    "print(list)"
   ]
  },
  {
   "cell_type": "code",
   "execution_count": 1,
   "id": "4430d7da-e4f8-427b-b0aa-d1dd0f000ce2",
   "metadata": {},
   "outputs": [
    {
     "data": {
      "text/plain": [
       "<function print(*args, sep=' ', end='\\n', file=None, flush=False)>"
      ]
     },
     "execution_count": 1,
     "metadata": {},
     "output_type": "execute_result"
    }
   ],
   "source": [
    "#.reverse ...reverse that list \n",
    "list=[1,2,3,4,5,6,7,8,9]\n",
    "list.reverse\n",
    "print"
   ]
  },
  {
   "cell_type": "code",
   "execution_count": 11,
   "id": "763c58f2-9e6a-44a7-84f2-9860f75cee9a",
   "metadata": {},
   "outputs": [
    {
     "name": "stdin",
     "output_type": "stream",
     "text": [
      "enter the name of first movie: abcd\\\n",
      "enter the name of second movie: efgh\n",
      "enter the name of third movie: ijkl\n"
     ]
    },
    {
     "name": "stdout",
     "output_type": "stream",
     "text": [
      "['abcd\\\\', 'efgh', 'ijkl']\n"
     ]
    }
   ],
   "source": [
    "#name of three movies and make their list\n",
    "list=[]\n",
    "a= input(\"enter the name of first movie:\")\n",
    "b =input(\"enter the name of second movie:\")\n",
    "c= input(\"enter the name of third movie:\")\n",
    "list.append(a)\n",
    "list.append(b)\n",
    "list.append(c)\n",
    "print(list)"
   ]
  },
  {
   "cell_type": "code",
   "execution_count": 13,
   "id": "f5fd0c13-e292-496f-b1cf-be99460e9a88",
   "metadata": {},
   "outputs": [
    {
     "name": "stdout",
     "output_type": "stream",
     "text": [
      "a is palindrome.\n"
     ]
    }
   ],
   "source": [
    "# for checking elements in list is palindrome or not\n",
    "a = [1,2,3,4,5,4,3,2,1]\n",
    "copy_a =a.copy()\n",
    "copy_a.reverse()\n",
    "\n",
    "if(copy_a == a):\n",
    "    print(\"a is palindrome.\")\n",
    "else:\n",
    "    (\"not palindrome.\")"
   ]
  },
  {
   "cell_type": "code",
   "execution_count": 8,
   "id": "d2f58d85-8bae-4193-9287-26788479c52a",
   "metadata": {},
   "outputs": [
    {
     "name": "stdout",
     "output_type": "stream",
     "text": [
      "not palindrome.\n"
     ]
    }
   ],
   "source": [
    "b = [1,4,15,6,7,89]\n",
    "copy_b=b.copy()\n",
    "copy_b.reverse()\n",
    "\n",
    "if (copy_b==b):\n",
    "    print(\"b is palindrome.\")\n",
    "else:\n",
    "    print(\"not palindrome.\")"
   ]
  },
  {
   "cell_type": "code",
   "execution_count": 3,
   "id": "6c39d6e4-77f2-40c8-bedd-ee7f5de5515f",
   "metadata": {},
   "outputs": [
    {
     "name": "stdout",
     "output_type": "stream",
     "text": [
      "10\n"
     ]
    }
   ],
   "source": [
    "subjects = [\"python\",\"java\",\"C++\",\"python\",\"javascript\",\"java\",\"python\",\"java\",\"C++\",\"C\"]\n",
    "print(len(subjects))"
   ]
  },
  {
   "cell_type": "code",
   "execution_count": null,
   "id": "be3b3ca3-6263-4ff2-9fdc-9ec610c1a47f",
   "metadata": {},
   "outputs": [],
   "source": []
  }
 ],
 "metadata": {
  "kernelspec": {
   "display_name": "Python 3 (ipykernel)",
   "language": "python",
   "name": "python3"
  },
  "language_info": {
   "codemirror_mode": {
    "name": "ipython",
    "version": 3
   },
   "file_extension": ".py",
   "mimetype": "text/x-python",
   "name": "python",
   "nbconvert_exporter": "python",
   "pygments_lexer": "ipython3",
   "version": "3.13.5"
  }
 },
 "nbformat": 4,
 "nbformat_minor": 5
}
