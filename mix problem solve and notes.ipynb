{
 "cells": [
  {
   "cell_type": "code",
   "execution_count": 1,
   "id": "2cc64e81-6173-4659-8da1-a8b6066e9419",
   "metadata": {},
   "outputs": [
    {
     "name": "stdout",
     "output_type": "stream",
     "text": [
      "Hello python\n"
     ]
    }
   ],
   "source": [
    "print(\"Hello python\")"
   ]
  },
  {
   "cell_type": "code",
   "execution_count": 2,
   "id": "8a96f51e-8353-4e03-bf0a-d6b5ee95f66e",
   "metadata": {},
   "outputs": [
    {
     "name": "stdin",
     "output_type": "stream",
     "text": [
      "Enter the first number for addition:  24\n",
      "Enter the second number for addition:  34\n"
     ]
    },
    {
     "name": "stdout",
     "output_type": "stream",
     "text": [
      "sum: 24.0 + 34.0 = 58.0\n"
     ]
    }
   ],
   "source": [
    "## Addition\n",
    "num1 = float(input(\"Enter the first number for addition: \"))\n",
    "num2 = float(input(\"Enter the second number for addition: \"))\n",
    "sum_result = num1 + num2\n",
    "print(f\"sum: {num1} + {num2} = {sum_result}\")"
   ]
  },
  {
   "cell_type": "code",
   "execution_count": 3,
   "id": "18d1e0fd-cae6-4586-a3fa-d8fdbec9c80f",
   "metadata": {},
   "outputs": [
    {
     "name": "stdin",
     "output_type": "stream",
     "text": [
      "Enter the dividend for division:  25\n",
      "Enter the divisor for division:  5\n"
     ]
    },
    {
     "name": "stdout",
     "output_type": "stream",
     "text": [
      "Division: 25.0 / 5.0 = 5.0\n"
     ]
    }
   ],
   "source": [
    "# Division\n",
    "num3 = float(input(\"Enter the dividend for division: \"))\n",
    "num4 = float(input(\"Enter the divisor for division: \"))\n",
    "if num4 == 0:\n",
    " print(\"Error: Division by zero is not allowed.\")\n",
    "else:\n",
    " div_result = num3 / num4\n",
    " print(f\"Division: {num3} / {num4} = {div_result}\")"
   ]
  },
  {
   "cell_type": "code",
   "execution_count": 4,
   "id": "58e6334e-fa8c-4369-9110-f18123ab0d3b",
   "metadata": {},
   "outputs": [
    {
     "name": "stdin",
     "output_type": "stream",
     "text": [
      "Enter the value of the first variable (a):  34\n",
      "Enter the value of the second variable (b):  56\n"
     ]
    },
    {
     "name": "stdout",
     "output_type": "stream",
     "text": [
      "Original values: a = 34, b = 56\n",
      "Swapped values: a = 56, b = 34\n"
     ]
    }
   ],
   "source": [
    "# Input two variables\n",
    "a = input(\"Enter the value of the first variable (a): \")\n",
    "b = input(\"Enter the value of the second variable (b): \")\n",
    "# Display the original values\n",
    "print(f\"Original values: a = {a}, b = {b}\")\n",
    "# Swap the values using a temporary variable\n",
    "temp = a\n",
    "a = b\n",
    "b = temp\n",
    "# Display the swapped values\n",
    "print(f\"Swapped values: a = {a}, b = {b}\")"
   ]
  },
  {
   "cell_type": "code",
   "execution_count": 7,
   "id": "71c4c3e6-650e-4944-a858-5bc67b0d7278",
   "metadata": {},
   "outputs": [
    {
     "name": "stdout",
     "output_type": "stream",
     "text": [
      "Random number: 5\n"
     ]
    }
   ],
   "source": [
    "import random\n",
    "print(f\"Random number: {random.randint(1, 100)}\")"
   ]
  },
  {
   "cell_type": "code",
   "execution_count": 6,
   "id": "5bacba4c-4379-43af-b799-98ccbc57102e",
   "metadata": {},
   "outputs": [
    {
     "name": "stdin",
     "output_type": "stream",
     "text": [
      "Enter distance in kilometers:  62\n"
     ]
    },
    {
     "name": "stdout",
     "output_type": "stream",
     "text": [
      "62.0 kilometers is equal to 38.525002 miles\n"
     ]
    }
   ],
   "source": [
    "kilometers = float(input(\"Enter distance in kilometers: \"))\n",
    "# Conversion factor: 1 kilometer = 0.621371 miles\n",
    "conversion_factor = 0.621371\n",
    "miles = kilometers * conversion_factor\n",
    "print(f\"{kilometers} kilometers is equal to {miles} miles\")\n"
   ]
  },
  {
   "cell_type": "code",
   "execution_count": 7,
   "id": "569198f5-ccdd-48eb-93fa-56dd7d946ec9",
   "metadata": {},
   "outputs": [
    {
     "name": "stdin",
     "output_type": "stream",
     "text": [
      "Enter temperature in Celsius:  37\n"
     ]
    },
    {
     "name": "stdout",
     "output_type": "stream",
     "text": [
      "37.0 degrees Celsius is equal to 98.6 degrees Fahrenheit\n"
     ]
    }
   ],
   "source": [
    "celsius = float(input(\"Enter temperature in Celsius: \"))\n",
    "# Conversion formula: Fahrenheit = (Celsius * 9/5) + 32\n",
    "fahrenheit = (celsius * 9/5) + 32\n",
    "print(f\"{celsius} degrees Celsius is equal to {fahrenheit} degrees Fahrenheit\")"
   ]
  },
  {
   "cell_type": "code",
   "execution_count": 8,
   "id": "37403f2c-5b7e-449f-931e-d7b847b2ef7f",
   "metadata": {},
   "outputs": [
    {
     "name": "stdin",
     "output_type": "stream",
     "text": [
      "Enter year:  2000\n",
      "Enter month:  1\n"
     ]
    },
    {
     "name": "stdout",
     "output_type": "stream",
     "text": [
      "    January 2000\n",
      "Mo Tu We Th Fr Sa Su\n",
      "                1  2\n",
      " 3  4  5  6  7  8  9\n",
      "10 11 12 13 14 15 16\n",
      "17 18 19 20 21 22 23\n",
      "24 25 26 27 28 29 30\n",
      "31\n",
      "\n"
     ]
    }
   ],
   "source": [
    "import calendar\n",
    "year = int(input(\"Enter year: \"))\n",
    "month = int(input(\"Enter month: \"))\n",
    "cal = calendar.month(year, month)\n",
    "print(cal)"
   ]
  },
  {
   "cell_type": "code",
   "execution_count": 9,
   "id": "1f6b4feb-a402-4106-b9d6-fa023c0f3853",
   "metadata": {},
   "outputs": [
    {
     "name": "stdin",
     "output_type": "stream",
     "text": [
      "Enter coefficient a:  12\n",
      "Enter coefficient b:  2\n",
      "Enter coefficient c:  4\n"
     ]
    },
    {
     "name": "stdout",
     "output_type": "stream",
     "text": [
      "Root 1: -0.08333333333333333 + 0.5713045500334203i\n",
      "Root 2: -0.08333333333333333 - 0.5713045500334203i\n"
     ]
    }
   ],
   "source": [
    "import math\n",
    "# Input coefficients\n",
    "a = float(input(\"Enter coefficient a: \"))\n",
    "b = float(input(\"Enter coefficient b: \"))\n",
    "c = float(input(\"Enter coefficient c: \"))\n",
    "# Calculate the discriminant\n",
    "discriminant = b**2 - 4*a*c\n",
    "# Check if the discriminant is positive, negative, or zero\n",
    "if discriminant > 0:\n",
    "     # Two real and distinct roots\n",
    "     root1 = (-b + math.sqrt(discriminant)) / (2*a)\n",
    "     root2 = (-b - math.sqrt(discriminant)) / (2*a)\n",
    "     print(f\"Root 1: {root1}\")\n",
    "     print(f\"Root 2: {root2}\")\n",
    "elif discriminant == 0:\n",
    "     # One real root (repeated)\n",
    "     root = -b / (2*a)\n",
    "     print(f\"Root: {root}\")\n",
    "else:\n",
    " # Complex roots\n",
    "      real_part = -b / (2*a)\n",
    "      imaginary_part = math.sqrt(abs(discriminant)) / (2*a)\n",
    "      print(f\"Root 1: {real_part} + {imaginary_part}i\")\n",
    "      print(f\"Root 2: {real_part} - {imaginary_part}i\")\n",
    "    "
   ]
  },
  {
   "cell_type": "code",
   "execution_count": 10,
   "id": "37ad6f5e-da2d-419a-92a4-0abf8feac8d6",
   "metadata": {},
   "outputs": [
    {
     "name": "stdout",
     "output_type": "stream",
     "text": [
      "After swapping:\n",
      "a = 10\n",
      "b = 5\n"
     ]
    }
   ],
   "source": [
    "a = 5\n",
    "b = 10\n",
    "# Swapping without a temporary variable\n",
    "a, b = b, a\n",
    "print(\"After swapping:\")\n",
    "print(\"a =\", a)\n",
    "print(\"b =\", b)"
   ]
  },
  {
   "cell_type": "code",
   "execution_count": 11,
   "id": "7c287dd3-e3ee-44df-97a0-786fad481394",
   "metadata": {},
   "outputs": [
    {
     "name": "stdin",
     "output_type": "stream",
     "text": [
      "Enter a number:  12.8\n"
     ]
    },
    {
     "name": "stdout",
     "output_type": "stream",
     "text": [
      "Positive number\n"
     ]
    }
   ],
   "source": [
    "num = float(input(\"Enter a number: \"))\n",
    "if num > 0:\n",
    " print(\"Positive number\")\n",
    "elif num == 0:\n",
    " print(\"Zero\")\n",
    "else:\n",
    " print(\"Negative number\")"
   ]
  },
  {
   "cell_type": "code",
   "execution_count": 12,
   "id": "0f2b952e-9a12-4f73-b8d3-1f838e839614",
   "metadata": {},
   "outputs": [
    {
     "name": "stdin",
     "output_type": "stream",
     "text": [
      "Enter a year:  2000\n"
     ]
    },
    {
     "name": "stdout",
     "output_type": "stream",
     "text": [
      "2000 is a leap year\n"
     ]
    }
   ],
   "source": [
    "year = int(input(\"Enter a year: \"))\n",
    "# divided by 100 means century year (ending with 00)\n",
    "# century year divided by 400 is leap year\n",
    "if (year % 400 == 0) and (year % 100 == 0):\n",
    " print(\"{0} is a leap year\".format(year))\n",
    "# not divided by 100 means not a century year\n",
    "# year divided by 4 is a leap year\n",
    "elif (year % 4 ==0) and (year % 100 != 0):\n",
    " print(\"{0} is a leap year\".format(year))\n",
    "# if not divided by both 400 (century year) and 4 (not century year)\n",
    "# year is not leap year\n",
    "else:\n",
    " print(\"{0} is not a leap year\".format(year))"
   ]
  },
  {
   "cell_type": "code",
   "execution_count": 13,
   "id": "82f7557b-db2f-459a-b907-18e0caf9e498",
   "metadata": {},
   "outputs": [
    {
     "name": "stdin",
     "output_type": "stream",
     "text": [
      "Enter a number:  13\n"
     ]
    },
    {
     "name": "stdout",
     "output_type": "stream",
     "text": [
      "13, is a prime number\n"
     ]
    }
   ],
   "source": [
    "num = int(input(\"Enter a number: \"))\n",
    "# define a flag variable\n",
    "flag = False\n",
    "if num == 1:\n",
    "     print(f\"{num}, is not a prime number\")\n",
    "elif num > 1:\n",
    " # check for factors\n",
    "    for i in range(2, num):\n",
    "        if (num % i) == 0:\n",
    "             flag = True # if factor is found, set flag to True\n",
    "            # break out of loop\n",
    "             break\n",
    " # check if flag is True\n",
    "if flag:\n",
    "     print(f\"{num}, is not a prime number\")\n",
    "    \n",
    "else:\n",
    "     print(f\"{num}, is a prime number\")"
   ]
  },
  {
   "cell_type": "code",
   "execution_count": 14,
   "id": "9be1a7e8-950c-482d-9f81-738af1533654",
   "metadata": {},
   "outputs": [
    {
     "name": "stdout",
     "output_type": "stream",
     "text": [
      "Prime numbers between 1 and 10 are:\n",
      "1\n"
     ]
    }
   ],
   "source": [
    "# Python program to display all the prime numbers within an interval\n",
    "lower = 1\n",
    "upper = 10\n",
    "\n",
    "print(\"Prime numbers between\", lower, \"and\", upper, \"are:\")\n",
    "\n",
    "for num in range(lower, upper + 1):\n",
    " # all prime numbers are greater than 1\n",
    "     if num > 1:\n",
    "         for i in range(2, num):\n",
    "             if (num % i) == 0:\n",
    "                 break\n",
    "     else:\n",
    "         print(num)"
   ]
  },
  {
   "cell_type": "code",
   "execution_count": 4,
   "id": "c23937cd-85e7-4ee9-83d8-8dfbad5a7c92",
   "metadata": {},
   "outputs": [
    {
     "name": "stdin",
     "output_type": "stream",
     "text": [
      "Enter a number:  13\n"
     ]
    },
    {
     "name": "stdout",
     "output_type": "stream",
     "text": [
      "The factorial of 13 is 6227020800\n"
     ]
    }
   ],
   "source": [
    "num = int(input(\"Enter a number: \"))\n",
    "factorial = 1\n",
    "if num <0:\n",
    "     print(\"Factirial does not exist for negative numbers\")\n",
    "elif num == 0:\n",
    "     print(\"Factorial of 0 is 1\")\n",
    "else:\n",
    "     for i in range(1, num+1):\n",
    "         factorial = factorial*i\n",
    "     print(f'The factorial of {num} is {factorial}')"
   ]
  },
  {
   "cell_type": "code",
   "execution_count": 5,
   "id": "bee93cbe-0c48-447d-b7e3-37e38e34ff1a",
   "metadata": {},
   "outputs": [
    {
     "name": "stdin",
     "output_type": "stream",
     "text": [
      "Display multiplication table of:  15\n"
     ]
    },
    {
     "name": "stdout",
     "output_type": "stream",
     "text": [
      "15 X 1 = 15\n",
      "15 X 2 = 30\n",
      "15 X 3 = 45\n",
      "15 X 4 = 60\n",
      "15 X 5 = 75\n",
      "15 X 6 = 90\n",
      "15 X 7 = 105\n",
      "15 X 8 = 120\n",
      "15 X 9 = 135\n",
      "15 X 10 = 150\n"
     ]
    }
   ],
   "source": [
    "num = int(input(\"Display multiplication table of: \"))\n",
    "for i in range(1, 11):\n",
    " print(f\"{num} X {i} = {num*i}\")\n"
   ]
  },
  {
   "cell_type": "code",
   "execution_count": 3,
   "id": "435a415a-7580-47d8-a28c-4b2c8c32b2a9",
   "metadata": {},
   "outputs": [
    {
     "name": "stdin",
     "output_type": "stream",
     "text": [
      "How many terms?  12\n"
     ]
    },
    {
     "name": "stdout",
     "output_type": "stream",
     "text": [
      "Fibonacci sequence:\n",
      "0\n",
      "1\n",
      "1\n",
      "2\n",
      "3\n",
      "5\n",
      "8\n",
      "13\n",
      "21\n",
      "34\n",
      "55\n",
      "89\n"
     ]
    }
   ],
   "source": [
    "nterms = int(input(\"How many terms? \"))\n",
    "# first two terms\n",
    "n1, n2 = 0, 1\n",
    "count = 0\n",
    "# check if the number of terms is valid\n",
    "if nterms <= 0:\n",
    "     print(\"Please enter a positive integer\")\n",
    "# if there is only one term, return n1\n",
    "elif nterms == 1:\n",
    "     print(\"Fibonacci sequence upto\",nterms,\":\")\n",
    "     print(n1)\n",
    "# generate fibonacci sequence\n",
    "else:\n",
    "     print(\"Fibonacci sequence:\")\n",
    "     while count < nterms:\n",
    "         print(n1)\n",
    "         nth = n1 + n2\n",
    "         # update values\n",
    "         n1 = n2\n",
    "         n2 = nth\n",
    "         count += 1 "
   ]
  },
  {
   "cell_type": "code",
   "execution_count": 2,
   "id": "8119d526-315d-4bc8-b62f-bacc3ba55e78",
   "metadata": {},
   "outputs": [
    {
     "name": "stdin",
     "output_type": "stream",
     "text": [
      "Enter a number:  537\n"
     ]
    },
    {
     "name": "stdout",
     "output_type": "stream",
     "text": [
      "537 is not an Armstrong number.\n"
     ]
    }
   ],
   "source": [
    "num = int(input(\"Enter a number: \"))\n",
    "# Calculate the number of digits in num\n",
    "num_str = str(num)\n",
    "num_digits = len(num_str)\n",
    "# Initialize variables\n",
    "sum_of_powers = 0\n",
    "temp_num = num\n",
    "\n",
    "# Calculate the sum of digits raised to the power of num_digits\n",
    "while temp_num > 0:\n",
    "     digit = temp_num % 10\n",
    "     sum_of_powers += digit ** num_digits\n",
    "     temp_num //= 10\n",
    "# Check if it's an Armstrong number\n",
    "if sum_of_powers == num:\n",
    "     print(f\"{num} is an Armstrong number.\")\n",
    "else:\n",
    "     print(f\"{num} is not an Armstrong number.\")\n",
    "    "
   ]
  },
  {
   "cell_type": "code",
   "execution_count": 1,
   "id": "2382b408-ab48-4849-b0ed-bab69c1e971d",
   "metadata": {},
   "outputs": [
    {
     "name": "stdin",
     "output_type": "stream",
     "text": [
      "Enter the lower limit of the interval:  100\n",
      "Enter the upper limit of the interval:  800\n"
     ]
    },
    {
     "name": "stdout",
     "output_type": "stream",
     "text": [
      "153\n",
      "370\n",
      "371\n",
      "407\n"
     ]
    }
   ],
   "source": [
    "# Input the interval from the user\n",
    "lower = int(input(\"Enter the lower limit of the interval: \"))\n",
    "upper = int(input(\"Enter the upper limit of the interval: \"))\n",
    "for num in range(lower, upper + 1): # Iterate through the numbers i\n",
    "     order = len(str(num)) # Find the number of digits in 'num'\n",
    "     temp_num = num\n",
    "     sum = 0\n",
    "    \n",
    "     while temp_num > 0:\n",
    "         digit = temp_num % 10\n",
    "         sum += digit ** order\n",
    "         temp_num //= 10\n",
    " # Check if 'num' is an Armstrong number\n",
    "     if num == sum:\n",
    "         print(num)"
   ]
  },
  {
   "cell_type": "code",
   "execution_count": 6,
   "id": "b34f2530-2b92-4e81-a319-3383b200d0c3",
   "metadata": {},
   "outputs": [
    {
     "name": "stdin",
     "output_type": "stream",
     "text": [
      "Enter the limit:  12\n"
     ]
    },
    {
     "name": "stdout",
     "output_type": "stream",
     "text": [
      "The sum of natural numbers up to 12 is: 78\n"
     ]
    }
   ],
   "source": [
    "limit = int(input(\"Enter the limit: \"))\n",
    "\n",
    "# Initialize the sum\n",
    "sum = 0\n",
    "\n",
    "# Use a for loop to calculate the sum of natural numbers\n",
    "for i in range(1, limit + 1):\n",
    "     sum += i\n",
    "# Print the sum\n",
    "print(\"The sum of natural numbers up to\", limit, \"is:\", sum)\n"
   ]
  },
  {
   "cell_type": "markdown",
   "id": "f3c875bf-c41f-4518-b9e2-a9ce2fffbfd3",
   "metadata": {},
   "source": [
    "#### def compute_lcm(x, y):\n",
    "     if x > y: # choose the greater number\n",
    "         greater = x\n",
    "     else:\n",
    "         greater = y\n",
    "         \n",
    "     while(True):\n",
    "         if((greater % x == 0) and (greater % y == 0)):\n",
    "             lcm = greater\n",
    "             break\n",
    "             greater += 1\n",
    "             return lcm\n",
    "num1 = int(input('Enter the number: '))\n",
    "num2 = int(input('Enter the number: '))\n",
    "\n",
    "print(\"The L.C.M. is\", compute_lcm(num1, num2))\n"
   ]
  },
  {
   "cell_type": "code",
   "execution_count": 7,
   "id": "9e8876b1-3dbf-4a99-a5a3-14bc53bbb9be",
   "metadata": {},
   "outputs": [
    {
     "name": "stdin",
     "output_type": "stream",
     "text": [
      "Enter the first number for addition:  26\n",
      "Enter the second number for addition:  38\n"
     ]
    },
    {
     "name": "stdout",
     "output_type": "stream",
     "text": [
      "sum: 26.0 + 38.0 = 64.0\n"
     ]
    }
   ],
   "source": [
    "# Addition\n",
    "num1 = float(input(\"Enter the first number for addition: \"))\n",
    "num2 = float(input(\"Enter the second number for addition: \"))\n",
    "sum_result = num1 + num2\n",
    "print(f\"sum: {num1} + {num2} = {sum_result}\")"
   ]
  },
  {
   "cell_type": "code",
   "execution_count": 10,
   "id": "8efb8764-0d72-4bbb-9957-0624f1ebbe72",
   "metadata": {},
   "outputs": [
    {
     "name": "stdin",
     "output_type": "stream",
     "text": [
      "Enter your name : NAMITA\n"
     ]
    },
    {
     "name": "stdout",
     "output_type": "stream",
     "text": [
      "Hello ,+ name \n",
      "Hello, NAMITA\n",
      "<class 'str'>\n"
     ]
    }
   ],
   "source": [
    "name = input (\"Enter your name :\")\n",
    "print (\"Hello ,+ name \")\n",
    "print(\"Hello, \"+ name )\n",
    "print (type(name ))\n"
   ]
  },
  {
   "cell_type": "code",
   "execution_count": 16,
   "id": "c886cc56-879e-40db-b786-e541e16ae9b5",
   "metadata": {},
   "outputs": [
    {
     "name": "stdin",
     "output_type": "stream",
     "text": [
      "Enter a  number :  24\n"
     ]
    },
    {
     "name": "stdout",
     "output_type": "stream",
     "text": [
      "True\n",
      "<class 'bool'>\n"
     ]
    }
   ],
   "source": [
    "num= bool(input(\"Enter a  number : \"))\n",
    "print(num)\n",
    "print(type(num))\n",
    "\n"
   ]
  },
  {
   "cell_type": "code",
   "execution_count": 18,
   "id": "6afc1643-302a-4497-92c1-b105a6cad7c9",
   "metadata": {},
   "outputs": [
    {
     "name": "stdout",
     "output_type": "stream",
     "text": [
      "NAMITAHimanshu \n"
     ]
    }
   ],
   "source": [
    "a= \"Hello \"\n",
    "A= \"NAMITA\"\n",
    "b= \"Himanshu \"\n",
    "B= \"Rohit \"\n",
    "print((A)+(b))\n"
   ]
  },
  {
   "cell_type": "code",
   "execution_count": 20,
   "id": "2816d9be-4a46-4b72-8a37-7f7a028ae8b2",
   "metadata": {},
   "outputs": [
    {
     "name": "stdout",
     "output_type": "stream",
     "text": [
      "<class 'int'>\n",
      "<class 'float'>\n",
      "<class 'str'>\n",
      "<class 'bool'>\n",
      "<class 'list'>\n",
      "<class 'tuple'>\n",
      "<class 'set'>\n",
      "<class 'dict'>\n",
      "<class 'complex'>\n"
     ]
    }
   ],
   "source": [
    "a = 10                  #Data types in python \n",
    "b = 3.14\n",
    "c = \"Hello\"\n",
    "d = True\n",
    "e = [1, 2, 3]\n",
    "f = (4, 5, 6)\n",
    "g = {7, 8, 9}\n",
    "h = {\"name\": \"Alice\", \"age\": 25}\n",
    "i=  1+ 2j \n",
    "print(type(a))  \n",
    "print(type(b))  \n",
    "print(type(c)) \n",
    "print(type(d))  \n",
    "print(type(e))  \n",
    "print(type(f))  \n",
    "print(type(g))  \n",
    "print(type(h)) \n",
    "print (type(i))\n"
   ]
  },
  {
   "cell_type": "code",
   "execution_count": 21,
   "id": "dfd3775b-f487-4777-b7ef-2e6256233e1b",
   "metadata": {},
   "outputs": [
    {
     "name": "stdout",
     "output_type": "stream",
     "text": [
      "7.5\n",
      "<class 'float'>\n"
     ]
    }
   ],
   "source": [
    "a = 5         #Implicit typecasting :Done by system automatically(by python )\n",
    "b = 2.5     \n",
    "c = a + b   \n",
    "print(c)    \n",
    "print(type(c))  \n"
   ]
  },
  {
   "cell_type": "code",
   "execution_count": 22,
   "id": "d2960ef1-ed98-4275-a7d6-68899669c346",
   "metadata": {},
   "outputs": [
    {
     "name": "stdout",
     "output_type": "stream",
     "text": [
      "10.0\n",
      "9\n",
      "100\n",
      "30\n",
      "(1, 2, 3)\n",
      "{4, 5, 6}\n",
      "{'a': 1, 'b': 2}\n"
     ]
    }
   ],
   "source": [
    "# int to float     # Explicit typecasting: Done manually i.e. convert type input by user\n",
    "x = 10\n",
    "print(float(x))   \n",
    "\n",
    "# float to int\n",
    "y = 9.99\n",
    "print(int(y))     \n",
    "\n",
    "# int to string\n",
    "z = 100\n",
    "print(str(z))     \n",
    "\n",
    "# string to int\n",
    "s = \"25\"\n",
    "print(int(s) + 5) \n",
    "\n",
    "# list to tuple\n",
    "lst = [1, 2, 3]\n",
    "print(tuple(lst))  \n",
    "\n",
    "# tuple to set\n",
    "t = (4, 5, 6, 4)\n",
    "print(set(t))     \n",
    "\n",
    "# list of pairs to dictionary\n",
    "pairs = [(\"a\", 1), (\"b\", 2)]\n",
    "print(dict(pairs))   \n",
    "\n"
   ]
  },
  {
   "cell_type": "code",
   "execution_count": 23,
   "id": "5a6acadb-0265-4104-bf4c-c35074e70f6b",
   "metadata": {},
   "outputs": [
    {
     "name": "stdout",
     "output_type": "stream",
     "text": [
      "I 'll call you later \n",
      "I'll call you later \n"
     ]
    }
   ],
   "source": [
    "#Escape character in python      # Backslash before \n",
    "print(\"I 'll call you later \")\n",
    "print (\"I\\'ll call you later \")"
   ]
  },
  {
   "cell_type": "code",
   "execution_count": 27,
   "id": "e309e291-160f-4571-80d5-acc477ce9375",
   "metadata": {},
   "outputs": [
    {
     "name": "stdout",
     "output_type": "stream",
     "text": [
      "Prepare well for \"NET 2025\" exam \n"
     ]
    }
   ],
   "source": [
    "print (\"Prepare well for \\\"NET 2025\\\" exam \")      # Double backslash "
   ]
  },
  {
   "cell_type": "code",
   "execution_count": 28,
   "id": "94e26243-ce4c-48ba-bdc3-faeb36977b7e",
   "metadata": {},
   "outputs": [
    {
     "name": "stdout",
     "output_type": "stream",
     "text": [
      "Hello ,\n",
      " Smashers\n"
     ]
    }
   ],
   "source": [
    "a = \"Hello ,\\n Smashers\"                #  Backslash n for new tab \n",
    "print (a)"
   ]
  },
  {
   "cell_type": "code",
   "execution_count": 31,
   "id": "eae1ae84-ed3e-43c4-afe2-0fee15ec6756",
   "metadata": {},
   "outputs": [
    {
     "name": "stdout",
     "output_type": "stream",
     "text": [
      " Huge_benefits of _study\n"
     ]
    }
   ],
   "source": [
    "x= \"no_benefits_   of _study\\r Huge_benefits \"     # Backslash r for carriage returns ..returns from starting \n",
    " \n",
    "print (x)"
   ]
  },
  {
   "cell_type": "code",
   "execution_count": 32,
   "id": "9b0a2d2f-9b81-41c3-bf50-2330332355d8",
   "metadata": {},
   "outputs": [
    {
     "name": "stdout",
     "output_type": "stream",
     "text": [
      "It's a sunny day\n",
      "She said \"Python is fun\"\n",
      "This is a backslash: \\\n",
      "Hello\n",
      "World\n",
      "Name\tAge\n",
      "ABC45\n"
     ]
    }
   ],
   "source": [
    "# 1. Using single and double quotes\n",
    "print('It\\'s a sunny day')   \n",
    "print(\"She said \\\"Python is fun\\\"\")  \n",
    "\n",
    "# 2. Backslash\n",
    "print(\"This is a backslash: \\\\\")  \n",
    "\n",
    "# 3. Newline and Tab\n",
    "print(\"Hello\\nWorld\")   \n",
    "print(\"Name\\tAge\")     \n",
    "\n",
    "# 4. Carriage return\n",
    "print(\"12345\\rABC\")     \n",
    "  \n"
   ]
  },
  {
   "cell_type": "code",
   "execution_count": 33,
   "id": "97ad7245-e7c3-44a2-bbc6-898fb572abc7",
   "metadata": {},
   "outputs": [
    {
     "name": "stdout",
     "output_type": "stream",
     "text": [
      "C:\\Users\\Admin\n",
      "C:\\Users\\Admin\n"
     ]
    }
   ],
   "source": [
    "# Normal string\n",
    "print(\"C:\\\\Users\\\\Admin\")   \n",
    "\n",
    "\n",
    "# Raw string\n",
    "print(r\"C:\\Users\\Admin\")    \n",
    "\n"
   ]
  },
  {
   "cell_type": "code",
   "execution_count": 34,
   "id": "23529d74-c2df-4ad2-9755-29b4e88120ef",
   "metadata": {},
   "outputs": [
    {
     "name": "stdout",
     "output_type": "stream",
     "text": [
      "Hello\n",
      "World\n",
      "Hello\\nWorld\n"
     ]
    }
   ],
   "source": [
    "print(\"Hello\\nWorld\")   # Normal string → newline\n",
    "print(r\"Hello\\nWorld\")  # Raw string → shows \\n as text\n"
   ]
  },
  {
   "cell_type": "code",
   "execution_count": 35,
   "id": "7d7c49e3-0075-4ba1-b816-ec4286f1ffdd",
   "metadata": {},
   "outputs": [
    {
     "name": "stdout",
     "output_type": "stream",
     "text": [
      "Hello World\n",
      "This is\n",
      "a multi-line\n",
      "string\n"
     ]
    }
   ],
   "source": [
    "s1 = 'Hello'          # strings : immutable and ordered \n",
    "s2 = \"World\"\n",
    "s3 = '''This is\n",
    "a multi-line\n",
    "string'''\n",
    "print(s1, s2)\n",
    "print(s3)\n"
   ]
  },
  {
   "cell_type": "code",
   "execution_count": 36,
   "id": "8124b09a-8188-4c65-98fd-06818ce9184f",
   "metadata": {},
   "outputs": [
    {
     "name": "stdout",
     "output_type": "stream",
     "text": [
      "H\n",
      "U\n",
      "HIMANSH\n",
      "MANSHU\n",
      "HIM\n",
      "UHSNAMIH\n",
      "8\n"
     ]
    }
   ],
   "source": [
    "word = \"HIMANSHU\"\n",
    "print(word[0])     # H(1st char)\n",
    "print(word[-1])    # U  (last char)\n",
    "\n",
    "# Slicing      \n",
    "print(word[0:7])   # slicing consists start , stop (not included stop element )\n",
    "print(word[2:])    \n",
    "print(word[:3])    \n",
    "print(word[::-1])  #  (reversed)\n",
    "print (len(word ))      # length start from 1\n",
    "                            # index start from 0 and revrse from -1 \n"
   ]
  },
  {
   "cell_type": "code",
   "execution_count": 38,
   "id": "84a9c2ef-4f36-48a6-aba3-b67503be3b8a",
   "metadata": {},
   "outputs": [
    {
     "name": "stdout",
     "output_type": "stream",
     "text": [
      " Namita  23\n"
     ]
    }
   ],
   "source": [
    "# Concatenation         \n",
    "name =' Namita '          # addition of any two  or three or more\n",
    "age = '23'\n",
    "group =( name +' ' + age )\n",
    "print(group)"
   ]
  },
  {
   "cell_type": "code",
   "execution_count": 39,
   "id": "36fcbdb6-3892-413b-b66c-d54ed6f54b71",
   "metadata": {},
   "outputs": [
    {
     "name": "stdout",
     "output_type": "stream",
     "text": [
      "My first name is Himanshu & last name is Chawla & age is 25\n"
     ]
    }
   ],
   "source": [
    "name = 'Himanshu '         # using f strings \n",
    "last = 'Chawla'\n",
    "age = 25 \n",
    "print (f\"My first name is {name}& last name is {last} & age is {age }\")"
   ]
  },
  {
   "cell_type": "code",
   "execution_count": 3,
   "id": "34143d05-3957-44ab-9b20-696dbad6aa4d",
   "metadata": {},
   "outputs": [
    {
     "name": "stdout",
     "output_type": "stream",
     "text": [
      "PYTHON PROGRAMMING \n",
      "python programming \n",
      "Python Programming \n",
      "Python programming \n",
      "pYTHON pROGRAMMING \n"
     ]
    }
   ],
   "source": [
    "#case conversion in string \n",
    "txt = \"Python Programming \"\n",
    "print(txt.upper())  \n",
    "print(txt.lower())   \n",
    "print(txt.title())   \n",
    "print(txt.capitalize())  \n",
    "print(txt.swapcase()) \n"
   ]
  },
  {
   "cell_type": "code",
   "execution_count": 41,
   "id": "b402bdcb-0cce-42e4-a8f6-b89f395c408a",
   "metadata": {},
   "outputs": [
    {
     "name": "stdout",
     "output_type": "stream",
     "text": [
      "['apple', 'banana', 'cherry']\n",
      "Python is fun\n"
     ]
    }
   ],
   "source": [
    "s = \"apple,banana,cherry\"          # splitting and joining\n",
    "print(s.split(\",\"))   \n",
    "\n",
    "words = [\"Python\", \"is\", \"fun\"]\n",
    "print(\" \".join(words))   \n",
    "\n"
   ]
  },
  {
   "cell_type": "code",
   "execution_count": 42,
   "id": "b48dc286-28c6-45fa-aaac-e49fa1ce3708",
   "metadata": {},
   "outputs": [
    {
     "name": "stdout",
     "output_type": "stream",
     "text": [
      "My name is Namita and I am 25 years old\n",
      "My name is Namita and I am 25 years old\n"
     ]
    }
   ],
   "source": [
    "name = \"Namita\"        # using .format \n",
    "age = 25\n",
    "print(\"My name is {} and I am {} years old\".format(name, age))\n",
    "print(\"My name is {1} and I am {0} years old\".format(age, name))\n"
   ]
  },
  {
   "cell_type": "code",
   "execution_count": 43,
   "id": "4dd81e76-03b8-4ab3-85e0-affed9d48542",
   "metadata": {},
   "outputs": [],
   "source": [
    "# Empty list\n",
    "empty_list = []\n",
    "\n",
    "# List of numbers\n",
    "numbers = [1, 2, 3, 4, 5]\n",
    "\n",
    "# Mixed data types\n",
    "mixed = [10, \"Hello\", 3.14, True]\n",
    "\n",
    "# Nested list\n",
    "nested = [1, [2, 3], [4, 5]]\n"
   ]
  },
  {
   "cell_type": "code",
   "execution_count": 78,
   "id": "cc6f7591-debc-4347-8a32-e6f5bcd36dab",
   "metadata": {},
   "outputs": [
    {
     "name": "stdout",
     "output_type": "stream",
     "text": [
      "apple\n",
      "mango\n",
      "['banana', 'cherry']\n"
     ]
    }
   ],
   "source": [
    "fruits = [\"apple\", \"banana\", \"cherry\", \"mango\"]\n",
    "\n",
    "print(fruits[0])    \n",
    "print(fruits[-1])   \n",
    "print(fruits[1:3])  \n"
   ]
  },
  {
   "cell_type": "code",
   "execution_count": 49,
   "id": "bf7ed165-c92e-4347-8454-23f1cd68b1bb",
   "metadata": {},
   "outputs": [
    {
     "name": "stdout",
     "output_type": "stream",
     "text": [
      "[1, 3, 5, 7, 9, 11, 13, 2, 4, 6, 8, 10, 12, 14]\n",
      "[2, 4, 6, 8, 10, 12, 14, 1, 3, 5, 7, 9, 11, 13]\n"
     ]
    }
   ],
   "source": [
    "list1 = [1,3,5,7,9,11,13]        # Concatenation for addition \n",
    "list2 = [2,4,6,8,10,12,14 ]\n",
    "list3 =list1+list2\n",
    "print(list3)\n",
    "list4 = list2+ list1\n",
    "print(list4)\n"
   ]
  },
  {
   "cell_type": "code",
   "execution_count": 50,
   "id": "e5b57b3e-9492-4a64-8a4e-2434159598d0",
   "metadata": {},
   "outputs": [
    {
     "name": "stdout",
     "output_type": "stream",
     "text": [
      "NAMITANAMITANAMITANAMITANAMITA\n"
     ]
    }
   ],
   "source": [
    "name = \"NAMITA\" \n",
    "# Repetition * used for repeated a word in how many no. of times \n",
    "print (name*5 )\n"
   ]
  },
  {
   "cell_type": "code",
   "execution_count": 55,
   "id": "b7e5fc0f-46eb-45ad-b2ec-80634ab9e400",
   "metadata": {},
   "outputs": [
    {
     "name": "stdout",
     "output_type": "stream",
     "text": [
      "['apple', 'cherry', 'mango']\n",
      "mango\n",
      "['apple', 'cherry']\n",
      "apple\n",
      "['cherry']\n",
      "[]\n"
     ]
    }
   ],
   "source": [
    "fruits = [\"apple\", \"banana\", \"cherry\", \"mango\"]\n",
    "\n",
    "fruits.remove(\"banana\")   #  .remove :removes specific  element from list \n",
    "print(fruits)\n",
    "\n",
    "print(fruits.pop())       #.pop without index : removes last element\n",
    "print(fruits)             \n",
    "\n",
    "print(fruits.pop(0))      #  .pop removes  removes index   given element  i.e.0 → 'apple'\n",
    "print(fruits)  \n",
    " \n",
    "fruits.clear()            # empties list\n",
    "print(fruits) \n",
    "\n"
   ]
  },
  {
   "cell_type": "code",
   "execution_count": 58,
   "id": "954a752b-81cd-4fd1-8408-2a2787d96ee4",
   "metadata": {},
   "outputs": [
    {
     "name": "stdout",
     "output_type": "stream",
     "text": [
      "[1, 3, 5, 8, 9]\n",
      "[9, 8, 5, 3, 1]\n",
      "[1, 3, 5, 8, 9]\n",
      "5\n",
      "1\n",
      "9\n"
     ]
    }
   ],
   "source": [
    "nums = [5, 3, 8, 1, 9]\n",
    "\n",
    "nums.sort()   # ascending\n",
    "print(nums)   \n",
    "\n",
    "nums.sort(reverse=True)   # descending\n",
    "print(nums)\n",
    "\n",
    "nums.reverse()   # reverse order\n",
    "print(nums)\n",
    "\n",
    "\n",
    "\n",
    "print(len(nums))   # length of list\n",
    "print(min(nums))   # smallest element\n",
    "print(max(nums))   # largest element\n",
    "\n"
   ]
  },
  {
   "cell_type": "code",
   "execution_count": 59,
   "id": "abb56bcd-caae-4077-88a1-9938b58e113f",
   "metadata": {},
   "outputs": [
    {
     "name": "stdout",
     "output_type": "stream",
     "text": [
      "apple\n",
      "banana\n",
      "cherry\n",
      "0 apple\n",
      "1 banana\n",
      "2 cherry\n"
     ]
    }
   ],
   "source": [
    "fruits = [\"apple\", \"banana\", \"cherry\"]\n",
    "\n",
    "# For loop\n",
    "for f in fruits:\n",
    "    print(f)\n",
    "\n",
    "# Using index\n",
    "for i in range(len(fruits)):\n",
    "    print(i, fruits[i])\n",
    "\n"
   ]
  },
  {
   "cell_type": "code",
   "execution_count": 63,
   "id": "d251d7e1-8059-4ba9-9fe9-94dc4e740bd9",
   "metadata": {},
   "outputs": [
    {
     "name": "stdout",
     "output_type": "stream",
     "text": [
      "x is exactly 10\n"
     ]
    }
   ],
   "source": [
    "x = 10\n",
    "\n",
    "if x > 20:\n",
    "    print(\"x is greater than 20\")\n",
    "elif x == 10:\n",
    "    print(\"x is exactly 10\")\n",
    "else:\n",
    "    print(\"x is less than 20 and not 10\")\n"
   ]
  },
  {
   "cell_type": "code",
   "execution_count": 60,
   "id": "ea8a8f43-0c50-4de6-898f-a0a712f3f78b",
   "metadata": {},
   "outputs": [
    {
     "name": "stdout",
     "output_type": "stream",
     "text": [
      "False\n",
      "True\n",
      "True\n",
      "['RITU', 'SAKSHI', 'HIMANSHU ', 'RAJAT ']\n",
      "['NAMITA', 'SAKSHI', 'RAJAT ']\n",
      "['NAMITA', 'HIMANSHU ']\n"
     ]
    }
   ],
   "source": [
    "list1 = [ \"NAMITA\" , \"RITU\", \"SAKSHI\", \"HIMANSHU \", \"RAJAT \", \"ROHIT\"]\n",
    "#Membership for checking element in list or not \n",
    "print(\"NAMITA\"  not in list1 )     \n",
    "print(\"ROHIT\" in list1)\n",
    "print(\"HIMANI\"  not in list1)\n",
    "print(list1[1:5])\n",
    "print(list1[0:6:2])                # slicing \n",
    "print(list1[0:6:3])\n"
   ]
  },
  {
   "cell_type": "code",
   "execution_count": 104,
   "id": "9c4f146b-4936-4e9f-868c-6d39f06d479c",
   "metadata": {},
   "outputs": [
    {
     "name": "stdout",
     "output_type": "stream",
     "text": [
      "15\n",
      "[10, 20, 30, 40, 50, 60, 70, 80, 90, 100, 110, 120, 130, 140, 150, 165]\n",
      "[10, 20, 30, 40, 50, 60, 70, 80, 90, 100, 110, 120, 130, 140, 150, 165, [12, 14, 16]]\n",
      "[10, 20, 30, 40, 50, 60, 70, 80, 90, 100, 110, 120, 130, 140, 150, 165, [12, 14, 16], 2, 4, 6, 8, 10]\n",
      "[10, 20, 30, 40, 45, 50, 60, 70, 80, 90, 100, 110, 120, 130, 140, 150, 165, [12, 14, 16], 2, 4, 6, 8, 10]\n",
      "1\n",
      "1\n",
      "0\n",
      "[10, 20, 30, 40, 50, 60, 70, 80, 90, 100, 110, 120, 130, 140, 150, 165, [12, 14, 16], 2, 4, 6, 8, 10]\n",
      "[10, 20, 30, 40, 60, 70, 80, 90, 100, 110, 120, 130, 140, 150, 165, [12, 14, 16], 2, 4, 6, 8, 10]\n",
      "[10, 20, 30, 40, 60, 70, 80, 90, 100, 110, 120, 130, 140, 150, 165, [12, 14, 16], 2, 4, 6, 8]\n",
      "[8, 6, 4, 2, [12, 14, 16], 165, 150, 140, 130, 120, 110, 100, 90, 80, 70, 60, 40, 30, 20, 10]\n",
      "[2, 4, 6, 8, 10]\n",
      "[10, 8, 6, 4, 2]\n",
      "2\n",
      "10\n"
     ]
    }
   ],
   "source": [
    "# Built in functions\n",
    "\n",
    "list1= [10,20,30,40,50,60,70,80,90,100,110,120,130,140,150] \n",
    "\n",
    "list2 = [2,4,6,8,10]\n",
    "# len :use for checking the length i.e. total no. of elements in list \n",
    "print(len(list1))\n",
    "\n",
    "list1.append(165)        # .append : add single element in last \n",
    "print(list1)\n",
    "\n",
    "list1.append ([12,14,16])     # add this list as a single element\n",
    "print(list1)\n",
    "\n",
    "list1.extend (list2)     # extend : add all elements of list2 as single element \n",
    "print(list1)\n",
    "\n",
    "list1.insert (4,45)     # .insert : add an element at particular index given \n",
    "print(list1)\n",
    "\n",
    "print(list1.count(40))     # count : counts the no. of times element in list \n",
    "print(list1.count(4))\n",
    "\n",
    "print(list1.index(10))      # .index : gives the first occurence of elements in list \n",
    "\n",
    "list1.remove(45)         # .remove: removes that specific element given  , if multiples times that element in list then remove first one \n",
    "print(list1)\n",
    "\n",
    "list1.pop(4)            # .pop: removes that specific index element \n",
    "print(list1)   \n",
    "list1.pop()           # .pop : if not given specific  index of element then  it removes last one \n",
    "print(list1)\n",
    "\n",
    "list1.reverse()      # reverse the list of elements \n",
    "print(list1)\n",
    "\n",
    "list2.sort()       # sort elements in ascending order \n",
    "print(list2)\n",
    "\n",
    "list2.sort(reverse=True)    # .sort(reverse=True ) : elements in descending order \n",
    "print(list2)\n",
    "\n",
    "print(min(list2))\n",
    "print(max(list2))\n",
    "\n",
    "\n"
   ]
  },
  {
   "cell_type": "code",
   "execution_count": 62,
   "id": "a7104a9a-83d6-49c1-8527-b3bf76ecab95",
   "metadata": {},
   "outputs": [
    {
     "name": "stdout",
     "output_type": "stream",
     "text": [
      "{'name': 'Namita', 'age': 25, 'course': 'Data analytics'}\n",
      "{'name': 'Namita', 'age': 26, 'course': 'Data analytics', 'grade': 'A'}\n",
      "{'name': 'Namita', 'age': 26}\n",
      "name Namita\n",
      "age 26\n"
     ]
    }
   ],
   "source": [
    "student = {\n",
    "    \"name\": \"Namita\",\n",
    "    \"age\": 25,\n",
    "    \"course\": \"Data analytics\"\n",
    "}\n",
    "\n",
    "print(student) \n",
    "\n",
    "student[\"grade\"] = \"A\"        # add new key\n",
    "student[\"age\"] = 26          # update existing key\n",
    "\n",
    "print(student)\n",
    "\n",
    "student.pop(\"course\")       # remove by key\n",
    "del student[\"grade\"]        # delete by key\n",
    "\n",
    "print(student)\n",
    "\n",
    "for key, value in student.items():\n",
    "    print(key,  value)\n",
    "\n",
    "\n"
   ]
  },
  {
   "cell_type": "code",
   "execution_count": 110,
   "id": "f78c515d-cb26-452d-ba4d-39676be6ac61",
   "metadata": {},
   "outputs": [
    {
     "name": "stdout",
     "output_type": "stream",
     "text": [
      "HIMANSHU\n"
     ]
    }
   ],
   "source": [
    "students = {\n",
    "    \"s1\": {\"name\": \"NAMITA\", \"age\": 25},\n",
    "    \"s2\": {\"name\": \"HIMANSHU\", \"age\": 28}       # Nested dictionary  \n",
    "}\n",
    "\n",
    "print(students[\"s2\"][\"name\"])   \n",
    "\n"
   ]
  },
  {
   "cell_type": "code",
   "execution_count": 114,
   "id": "f213b0ac-ef5c-4f86-b6e2-0124736ee848",
   "metadata": {},
   "outputs": [
    {
     "name": "stdin",
     "output_type": "stream",
     "text": [
      "Enter a number:  24\n"
     ]
    },
    {
     "name": "stdout",
     "output_type": "stream",
     "text": [
      "Positive\n"
     ]
    }
   ],
   "source": [
    "num = int(input(\"Enter a number: \"))\n",
    "\n",
    "if num > 0:\n",
    "    print(\"Positive\")\n",
    "elif num < 0:\n",
    "    print(\"Negative\")\n",
    "else:\n",
    "    print(\"Zero\")\n",
    "    print(\"one is a natural no.\")\n"
   ]
  },
  {
   "cell_type": "code",
   "execution_count": 115,
   "id": "984d642f-4db6-455a-b2c2-da92f213456c",
   "metadata": {},
   "outputs": [
    {
     "name": "stdin",
     "output_type": "stream",
     "text": [
      "Enter a number:  16\n"
     ]
    },
    {
     "name": "stdout",
     "output_type": "stream",
     "text": [
      "16 x 1 = 16\n",
      "16 x 2 = 32\n",
      "16 x 3 = 48\n",
      "16 x 4 = 64\n",
      "16 x 5 = 80\n",
      "16 x 6 = 96\n",
      "16 x 7 = 112\n",
      "16 x 8 = 128\n",
      "16 x 9 = 144\n",
      "16 x 10 = 160\n"
     ]
    }
   ],
   "source": [
    "num = int(input(\"Enter a number: \"))\n",
    "\n",
    "for i in range(1, 11):\n",
    "    print(num, \"x\", i, \"=\", num * i)\n"
   ]
  },
  {
   "cell_type": "code",
   "execution_count": 61,
   "id": "e7b8c4a4-80f9-4745-bc6d-bd4826103c85",
   "metadata": {},
   "outputs": [
    {
     "name": "stdout",
     "output_type": "stream",
     "text": [
      "N\n",
      "A\n",
      "M\n",
      "I\n",
      "T\n",
      "A\n"
     ]
    }
   ],
   "source": [
    "word = \"NAMITA\"\n",
    "     # for define each character \n",
    "for char  in word:\n",
    "    print(char)\n"
   ]
  },
  {
   "cell_type": "code",
   "execution_count": 120,
   "id": "eb253185-92ce-497c-bed4-a74985198a62",
   "metadata": {},
   "outputs": [
    {
     "name": "stdin",
     "output_type": "stream",
     "text": [
      "Enter a number:  24\n"
     ]
    },
    {
     "name": "stdout",
     "output_type": "stream",
     "text": [
      "Reversed number: 42\n"
     ]
    }
   ],
   "source": [
    "num = int(input(\"Enter a number: \"))\n",
    "rev = 0\n",
    "\n",
    "while num > 0:\n",
    "    digit = num % 10\n",
    "    rev = rev * 10 + digit\n",
    "    num //= 10\n",
    "\n",
    "print(\"Reversed number:\", rev)\n"
   ]
  },
  {
   "cell_type": "code",
   "execution_count": 121,
   "id": "4947fec2-2ef2-45f6-905f-1047ad1fd175",
   "metadata": {},
   "outputs": [
    {
     "name": "stdout",
     "output_type": "stream",
     "text": [
      "Sum = 55\n"
     ]
    }
   ],
   "source": [
    "i = 1\n",
    "total = 0\n",
    "\n",
    "while i <= 10:\n",
    "    total += i\n",
    "    i += 1\n",
    "\n",
    "print(\"Sum =\", total)\n"
   ]
  },
  {
   "cell_type": "code",
   "execution_count": 122,
   "id": "cdd1d6be-f74a-40a8-82e4-2f7c2cd72533",
   "metadata": {},
   "outputs": [
    {
     "name": "stdout",
     "output_type": "stream",
     "text": [
      "Factorial = 120\n"
     ]
    }
   ],
   "source": [
    "num = 5\n",
    "fact = 1\n",
    "i = 1\n",
    "\n",
    "while i <= num:\n",
    "    fact *= i\n",
    "    i += 1\n",
    "\n",
    "\n",
    "print(\"Factorial =\", fact)\n"
   ]
  },
  {
   "cell_type": "code",
   "execution_count": 4,
   "id": "5084e02f-b65c-481d-a3b4-640b55bf4b8f",
   "metadata": {},
   "outputs": [
    {
     "name": "stdin",
     "output_type": "stream",
     "text": [
      "Enter a string 424\n"
     ]
    },
    {
     "name": "stdout",
     "output_type": "stream",
     "text": [
      "not palindrome\n"
     ]
    }
   ],
   "source": [
    "pn = input(\"Enter a string\")\n",
    "rev = \" \" \n",
    "for i in pn:\n",
    "    rev = pn + rev \n",
    "if pn ==rev:\n",
    "    print(\"palindrome\")\n",
    "else:\n",
    "    print(\"not palindrome\")"
   ]
  },
  {
   "cell_type": "code",
   "execution_count": 9,
   "id": "24ed4948-9629-41a3-8c5b-232e6b1d8b4c",
   "metadata": {},
   "outputs": [
    {
     "name": "stdout",
     "output_type": "stream",
     "text": [
      "104\n"
     ]
    }
   ],
   "source": [
    "l1 = [90,2,3,4,5]\n",
    "sum = 0\n",
    "for i in range(len(l1)):\n",
    "    sum = sum+l1[i]\n",
    "    i=i+1\n",
    "print(sum)"
   ]
  },
  {
   "cell_type": "code",
   "execution_count": 19,
   "id": "aa4695c3-8b3b-45b4-a40b-95bc982c1cad",
   "metadata": {},
   "outputs": [
    {
     "name": "stdin",
     "output_type": "stream",
     "text": [
      "enter the number of terms:  5\n"
     ]
    },
    {
     "name": "stdout",
     "output_type": "stream",
     "text": [
      "0 1 1 2 3 "
     ]
    }
   ],
   "source": [
    "num = int(input(\"enter the number of terms: \"))\n",
    "a,b =0,1\n",
    "temp=0\n",
    "if num <= 0:\n",
    " print(\"Please enter a positive integer\")\n",
    "# if there is only one term, return n1\n",
    "elif num == 1:\n",
    "     print(\"0\")\n",
    "if num >1:\n",
    "    while temp<num:\n",
    "        print(a, end=\" \")\n",
    "        a,b=b,a+b\n",
    "        temp=temp+1"
   ]
  },
  {
   "cell_type": "code",
   "execution_count": 23,
   "id": "c6fc89e9-8076-4953-af24-b5b436227e27",
   "metadata": {},
   "outputs": [
    {
     "name": "stdin",
     "output_type": "stream",
     "text": [
      "enter the number:  1234567890\n"
     ]
    },
    {
     "name": "stdout",
     "output_type": "stream",
     "text": [
      "10\n"
     ]
    }
   ],
   "source": [
    "num1 = int(input(\"enter the number: \"))\n",
    "temp = num1\n",
    "length=0\n",
    "while temp>0:\n",
    "    temp = temp//10\n",
    "    length+=1\n",
    "print(length)"
   ]
  },
  {
   "cell_type": "code",
   "execution_count": 39,
   "id": "6ccbe23e-8174-4468-9c2f-15d152335c4b",
   "metadata": {},
   "outputs": [
    {
     "name": "stdin",
     "output_type": "stream",
     "text": [
      "enter the name:  HIMANSHU\n"
     ]
    },
    {
     "name": "stdout",
     "output_type": "stream",
     "text": [
      "Not palindrome \n"
     ]
    }
   ],
   "source": [
    "str= input(\"enter the name: \")\n",
    "rev=\"\"\n",
    "for Char in str :\n",
    "    rev = Char + rev \n",
    "if str == rev :\n",
    "    print (\"Palindrome \")\n",
    "else : \n",
    "    print(\"Not palindrome \")"
   ]
  },
  {
   "cell_type": "code",
   "execution_count": 34,
   "id": "2d1326e8-5525-49ce-9ed2-f2645fd510a4",
   "metadata": {},
   "outputs": [
    {
     "name": "stdin",
     "output_type": "stream",
     "text": [
      "Enter the name:  RACECAR\n"
     ]
    },
    {
     "name": "stdout",
     "output_type": "stream",
     "text": [
      "Palindrome\n"
     ]
    }
   ],
   "source": [
    "str = input(\"Enter the name: \")\n",
    "rev = \"\"\n",
    "\n",
    "for char in str:\n",
    "    rev = char + rev\n",
    "\n",
    "if str == rev:\n",
    "    print(\"Palindrome\")\n",
    "else:\n",
    "    print(\"Not a palindrome\")"
   ]
  },
  {
   "cell_type": "code",
   "execution_count": 48,
   "id": "6ff1a69e-da4c-4a94-83c1-5ece34c6e9f7",
   "metadata": {},
   "outputs": [
    {
     "name": "stdin",
     "output_type": "stream",
     "text": [
      "Enter a number:  1221\n"
     ]
    },
    {
     "name": "stdout",
     "output_type": "stream",
     "text": [
      "Palindrome\n"
     ]
    }
   ],
   "source": [
    "num = int(input(\"Enter a number: \"))\n",
    "temp= num\n",
    "rev = 0   \n",
    "\n",
    "while num > 0:\n",
    "    digit = num % 10        \n",
    "    rev = rev * 10 + digit  \n",
    "    num = num // 10 \n",
    "\n",
    "if rev == temp:\n",
    "    print(\"Palindrome\")\n",
    "else:\n",
    "    print(\"not palindrome \")"
   ]
  },
  {
   "cell_type": "code",
   "execution_count": 2,
   "id": "091b03d8-759e-45ba-bb6a-8d733fcd3dea",
   "metadata": {},
   "outputs": [
    {
     "name": "stdin",
     "output_type": "stream",
     "text": [
      "enter the number  525\n"
     ]
    },
    {
     "name": "stdout",
     "output_type": "stream",
     "text": [
      "Palindrome \n"
     ]
    }
   ],
   "source": [
    "num= int(input(\"enter the number \"))\n",
    "rev= 0\n",
    "temp=num\n",
    "\n",
    "while temp>0 :\n",
    "    digit = temp% 10\n",
    "    rev = rev*10+digit \n",
    "    temp = temp//10\n",
    "\n",
    "if rev == num:\n",
    "    print(\"Palindrome \")\n",
    "else :\n",
    "    print (\"not a palindrome \")"
   ]
  },
  {
   "cell_type": "code",
   "execution_count": 59,
   "id": "5f184920-becf-41bb-8632-e2bd6ad10a49",
   "metadata": {},
   "outputs": [
    {
     "name": "stdout",
     "output_type": "stream",
     "text": [
      "Yes\n"
     ]
    }
   ],
   "source": [
    "s = \"malayalam\"  # string \n",
    "\n",
    "i,j = 0, len(s) - 1  # two pointers\n",
    "\n",
    "is_palindrome = True  # assume palindrome\n",
    "while i < j:\n",
    "    if s[i] != s[j]:  # mismatch found\n",
    "        is_palindrome = False\n",
    "        break\n",
    "    i += 1\n",
    "    j -= 1\n",
    "\n",
    "if is_palindrome:\n",
    "    print(\"Yes\") \n",
    "else:\n",
    "    print(\"No\")"
   ]
  },
  {
   "cell_type": "code",
   "execution_count": 64,
   "id": "7b5d8bcf-ee91-4b32-a845-b5fff870e67e",
   "metadata": {},
   "outputs": [
    {
     "name": "stdout",
     "output_type": "stream",
     "text": [
      "1\n",
      "2\n",
      "3\n",
      "4\n",
      "5\n",
      "6\n",
      "7\n",
      "8\n",
      "9\n",
      "10\n"
     ]
    }
   ],
   "source": [
    "for i in range (1,11) :\n",
    "    print(i)"
   ]
  },
  {
   "cell_type": "code",
   "execution_count": 69,
   "id": "e6fbc80a-0dff-407a-bb97-66b55d665d90",
   "metadata": {},
   "outputs": [
    {
     "name": "stdout",
     "output_type": "stream",
     "text": [
      "1\n",
      "2\n",
      "3\n",
      "4\n",
      "5\n",
      "6\n",
      "7\n",
      "8\n",
      "9\n",
      "10\n"
     ]
    }
   ],
   "source": [
    "i = 1  \n",
    "while i <= 10:  \n",
    "    print(i)  \n",
    "    i += 1  "
   ]
  },
  {
   "cell_type": "code",
   "execution_count": 73,
   "id": "f0cf3d55-2748-4952-82ee-92736f2a0464",
   "metadata": {},
   "outputs": [
    {
     "name": "stdout",
     "output_type": "stream",
     "text": [
      "2\n",
      "4\n",
      "6\n",
      "8\n",
      "10\n",
      "12\n",
      "14\n",
      "16\n",
      "18\n",
      "20\n"
     ]
    }
   ],
   "source": [
    "for i in range (2 ,21,2):\n",
    "    print(i)"
   ]
  },
  {
   "cell_type": "code",
   "execution_count": 75,
   "id": "c5f3e3e2-26af-4c14-b28a-5834d11f139c",
   "metadata": {},
   "outputs": [
    {
     "name": "stdout",
     "output_type": "stream",
     "text": [
      "apple\n",
      "banana\n",
      "cherry\n"
     ]
    }
   ],
   "source": [
    "fruits = [\"apple\", \"banana\", \"cherry\"]\n",
    "for fruit in fruits :\n",
    "    print (fruit )"
   ]
  },
  {
   "cell_type": "code",
   "execution_count": 77,
   "id": "e2988c57-1a85-4c04-a14d-b39fa12032b6",
   "metadata": {},
   "outputs": [
    {
     "name": "stdout",
     "output_type": "stream",
     "text": [
      "1\n",
      "4\n",
      "9\n",
      "16\n",
      "25\n",
      "36\n",
      "49\n",
      "64\n",
      "81\n"
     ]
    }
   ],
   "source": [
    "for i in range(1, 10):\n",
    "   print (i**2)"
   ]
  },
  {
   "cell_type": "code",
   "execution_count": 78,
   "id": "77c5c2e0-da24-4535-8e02-bc8440c8037f",
   "metadata": {},
   "outputs": [
    {
     "name": "stdout",
     "output_type": "stream",
     "text": [
      "Sum = 5050\n"
     ]
    }
   ],
   "source": [
    "total = 0\n",
    "for i in range(1, 101):\n",
    "    total += i\n",
    "print(\"Sum =\", total)\n"
   ]
  },
  {
   "cell_type": "code",
   "execution_count": 79,
   "id": "4d8b8b51-4ad0-4fe2-834b-05de5da26029",
   "metadata": {},
   "outputs": [
    {
     "name": "stdin",
     "output_type": "stream",
     "text": [
      "Enter something (type 'exit' to stop):  enter\n",
      "Enter something (type 'exit' to stop):  start\n",
      "Enter something (type 'exit' to stop):  stop\n",
      "Enter something (type 'exit' to stop):  step\n",
      "Enter something (type 'exit' to stop):  index\n",
      "Enter something (type 'exit' to stop):  range\n",
      "Enter something (type 'exit' to stop):  keywords\n",
      "Enter something (type 'exit' to stop):  start\n",
      "Enter something (type 'exit' to stop):  exit\n"
     ]
    }
   ],
   "source": [
    "word = \"\"\n",
    "while word != \"exit\":\n",
    "    word = input(\"Enter something (type 'exit' to stop): \")"
   ]
  },
  {
   "cell_type": "code",
   "execution_count": 81,
   "id": "a7c53df5-7d6b-4547-a631-8dec0e315aed",
   "metadata": {},
   "outputs": [
    {
     "name": "stdin",
     "output_type": "stream",
     "text": [
      "Enter a number:  5\n"
     ]
    },
    {
     "name": "stdout",
     "output_type": "stream",
     "text": [
      "Factorial = 120\n"
     ]
    }
   ],
   "source": [
    "n = int(input(\"Enter a number: \"))\n",
    "fact = 1\n",
    "while n > 0:\n",
    "    fact *= n\n",
    "    n -= 1\n",
    "print(\"Factorial =\", fact)"
   ]
  },
  {
   "cell_type": "code",
   "execution_count": 82,
   "id": "ff631221-1915-4e49-bc79-a61278b63a88",
   "metadata": {},
   "outputs": [
    {
     "name": "stdout",
     "output_type": "stream",
     "text": [
      "10\n",
      "9\n",
      "8\n",
      "7\n",
      "6\n",
      "5\n",
      "4\n",
      "3\n",
      "2\n",
      "1\n"
     ]
    }
   ],
   "source": [
    "i = 10\n",
    "while i > 0:\n",
    "    print(i)\n",
    "    i -= 1"
   ]
  },
  {
   "cell_type": "code",
   "execution_count": 85,
   "id": "2ecd2b76-62af-4203-a9fb-8922e7fbdb31",
   "metadata": {},
   "outputs": [
    {
     "name": "stdin",
     "output_type": "stream",
     "text": [
      "Guess the number:  2\n",
      "Guess the number:  3\n",
      "Guess the number:  4\n",
      "Guess the number:  15\n",
      "Guess the number:  11\n",
      "Guess the number:  29\n",
      "Guess the number:  25\n",
      "Guess the number:  75\n",
      "Guess the number:  7\n"
     ]
    },
    {
     "name": "stdout",
     "output_type": "stream",
     "text": [
      "Correct! \n"
     ]
    }
   ],
   "source": [
    "secret = 7\n",
    "guess = 0\n",
    "while guess != secret:\n",
    "    guess = int(input(\"Guess the number: \"))\n",
    "print(\"Correct! \")\n"
   ]
  },
  {
   "cell_type": "code",
   "execution_count": 84,
   "id": "7a633064-a56f-4e67-b61e-4abbfa999899",
   "metadata": {},
   "outputs": [
    {
     "name": "stdout",
     "output_type": "stream",
     "text": [
      "5 x 1 = 5\n",
      "5 x 2 = 10\n",
      "5 x 3 = 15\n",
      "5 x 4 = 20\n",
      "5 x 5 = 25\n",
      "5 x 6 = 30\n",
      "5 x 7 = 35\n",
      "5 x 8 = 40\n",
      "5 x 9 = 45\n",
      "5 x 10 = 50\n"
     ]
    }
   ],
   "source": [
    "for i in range(1, 11):\n",
    "    print(f\"5 x {i} = {5*i}\")"
   ]
  },
  {
   "cell_type": "code",
   "execution_count": 87,
   "id": "eb1aaf4b-89f5-427d-8cbf-397ab9041935",
   "metadata": {},
   "outputs": [
    {
     "name": "stdout",
     "output_type": "stream",
     "text": [
      "0\n",
      "1\n",
      "1\n",
      "2\n",
      "3\n",
      "5\n",
      "8\n",
      "13\n",
      "21\n",
      "34\n",
      "55\n",
      "89\n"
     ]
    }
   ],
   "source": [
    "a, b = 0, 1\n",
    "while a <= 100:\n",
    "    print(a)\n",
    "    a, b = b, a + b "
   ]
  },
  {
   "cell_type": "code",
   "execution_count": 88,
   "id": "3a1e4178-0370-4f54-a97a-63bd0511fff4",
   "metadata": {},
   "outputs": [
    {
     "name": "stdin",
     "output_type": "stream",
     "text": [
      "Enter a number:  23\n"
     ]
    },
    {
     "name": "stdout",
     "output_type": "stream",
     "text": [
      "Prime\n"
     ]
    }
   ],
   "source": [
    "n = int(input(\"Enter a number: \"))\n",
    "is_prime = True\n",
    "if n < 2:\n",
    "    is_prime = False\n",
    "else:\n",
    "    for i in range(2, int(n**0.5) + 1):\n",
    "        if n % i == 0:\n",
    "            is_prime = False\n",
    "            break\n",
    "\n",
    "if is_prime:\n",
    "    print(\"Prime\")\n",
    "else:\n",
    "    print(\"Not Prime\")\n"
   ]
  },
  {
   "cell_type": "code",
   "execution_count": 89,
   "id": "a3c5c5ec-e20c-4e33-9894-977a92c2d263",
   "metadata": {},
   "outputs": [
    {
     "name": "stdout",
     "output_type": "stream",
     "text": [
      "Reversed string: olleh\n"
     ]
    }
   ],
   "source": [
    "s = \"hello\"\n",
    "rev = \"\"\n",
    "for char in s:\n",
    "    rev = char + rev\n",
    "print(\"Reversed string:\", rev)\n"
   ]
  },
  {
   "cell_type": "code",
   "execution_count": 6,
   "id": "7b38b071-b814-43c4-9de5-8de5136e0e58",
   "metadata": {},
   "outputs": [
    {
     "name": "stdin",
     "output_type": "stream",
     "text": [
      "enter a string : namita\n"
     ]
    },
    {
     "name": "stdout",
     "output_type": "stream",
     "text": [
      "string is palindrome \n"
     ]
    }
   ],
   "source": [
    "str = input (\"enter a string :\")\n",
    "if str [::-1] :\n",
    "    print (\"string is palindrome \")\n",
    "else:\n",
    "    print(\"string is not palindrome \")"
   ]
  },
  {
   "cell_type": "code",
   "execution_count": 4,
   "id": "1b8f1df2-859f-4651-a037-2ca1a3969dce",
   "metadata": {},
   "outputs": [
    {
     "name": "stdout",
     "output_type": "stream",
     "text": [
      "hello  1\n",
      "hello  2\n",
      "hello  3\n",
      "hello  4\n",
      "hello  5\n",
      "hello  6\n",
      "hello  7\n"
     ]
    }
   ],
   "source": [
    "count = 1 \n",
    "while count <= 7:\n",
    "    print (\"hello \" , count )\n",
    "    count+= 1 "
   ]
  },
  {
   "cell_type": "code",
   "execution_count": 1,
   "id": "09305941-6eb2-449e-a4aa-2f9c26b4eb18",
   "metadata": {},
   "outputs": [
    {
     "name": "stdout",
     "output_type": "stream",
     "text": [
      "namita  5\n",
      "namita  4\n",
      "namita  3\n",
      "namita  2\n",
      "namita  1\n"
     ]
    }
   ],
   "source": [
    "i = 5\n",
    "while i >= 1 :\n",
    "    print (\"namita \" , i )\n",
    "    i -=1"
   ]
  },
  {
   "cell_type": "code",
   "execution_count": 6,
   "id": "4a387ec0-7f01-438d-ab00-5201ac60caf7",
   "metadata": {},
   "outputs": [
    {
     "name": "stdout",
     "output_type": "stream",
     "text": [
      "1\n",
      "2\n",
      "3\n",
      "4\n",
      "5\n",
      "6\n",
      "7\n",
      "8\n",
      "9\n",
      "10\n",
      "11\n",
      "12\n",
      "13\n",
      "14\n",
      "15\n",
      "16\n",
      "17\n",
      "18\n",
      "19\n",
      "20\n"
     ]
    }
   ],
   "source": [
    "# print numbers from 1 to 20\n",
    "i = 1\n",
    "while i <= 20 :\n",
    "       print (i)\n",
    "       i += 1\n"
   ]
  },
  {
   "cell_type": "code",
   "execution_count": 22,
   "id": "ecd83ee8-3b7a-494c-9b5e-8b5e454f357b",
   "metadata": {},
   "outputs": [
    {
     "name": "stdout",
     "output_type": "stream",
     "text": [
      "24\n",
      "5\n",
      "19\n",
      "67\n",
      "36\n",
      "49\n",
      "78\n",
      "65\n",
      "75\n",
      "15\n",
      "11\n",
      "21\n",
      "29\n"
     ]
    }
   ],
   "source": [
    "l1 = [24,5,19,67,36,49,78,65,75,15,11,21,29]\n",
    "i = 0 \n",
    "while i < (len (num)) :\n",
    "    print(num[i])\n",
    "    i +=1\n",
    "         "
   ]
  },
  {
   "cell_type": "code",
   "execution_count": 24,
   "id": "d2be606f-d687-4f73-b6a3-1e3dcffdc6e3",
   "metadata": {},
   "outputs": [
    {
     "name": "stdout",
     "output_type": "stream",
     "text": [
      "0\n",
      "1\n",
      "2\n"
     ]
    }
   ],
   "source": [
    "for i in range(3):\n",
    "    print(i)\n"
   ]
  },
  {
   "cell_type": "code",
   "execution_count": 25,
   "id": "2992637e-8394-4102-a51c-e2128e1468f3",
   "metadata": {},
   "outputs": [
    {
     "name": "stdout",
     "output_type": "stream",
     "text": [
      "5\n",
      "3\n",
      "1\n"
     ]
    }
   ],
   "source": [
    "x = 5\n",
    "while x > 0:\n",
    "    print(x)\n",
    "    x -= 2\n"
   ]
  },
  {
   "cell_type": "code",
   "execution_count": 26,
   "id": "0b21cd9d-9697-4dc7-949a-018fd2c00ffa",
   "metadata": {},
   "outputs": [
    {
     "name": "stdout",
     "output_type": "stream",
     "text": [
      "C\n",
      "A\n",
      "T\n"
     ]
    }
   ],
   "source": [
    "for char in \"CAT\":\n",
    "    print(char)\n"
   ]
  },
  {
   "cell_type": "code",
   "execution_count": 30,
   "id": "36f56a09-8b91-4e4f-8936-6c5d6e014d79",
   "metadata": {},
   "outputs": [
    {
     "name": "stdout",
     "output_type": "stream",
     "text": [
      "1\n",
      "2\n",
      "3\n",
      "4\n",
      "5\n",
      "6\n",
      "7\n",
      "8\n",
      "9\n",
      "10\n"
     ]
    }
   ],
   "source": [
    "i = 0 \n",
    "for i in range (1,11):\n",
    "    print(i)"
   ]
  },
  {
   "cell_type": "code",
   "execution_count": 36,
   "id": "fed85f21-516e-4456-94dd-6a053876c933",
   "metadata": {},
   "outputs": [
    {
     "name": "stdout",
     "output_type": "stream",
     "text": [
      "10\n",
      "9\n",
      "8\n",
      "7\n",
      "6\n",
      "5\n",
      "4\n",
      "3\n",
      "2\n",
      "1\n"
     ]
    }
   ],
   "source": [
    "x = 10\n",
    "while x >= 1  :\n",
    "    print (x)\n",
    "    x-=1 "
   ]
  },
  {
   "cell_type": "code",
   "execution_count": 39,
   "id": "7c7c88fb-e587-4b34-ba58-0a6f489d83f2",
   "metadata": {},
   "outputs": [
    {
     "name": "stdout",
     "output_type": "stream",
     "text": [
      "2\n",
      "4\n",
      "6\n",
      "8\n",
      "10\n",
      "12\n",
      "14\n",
      "16\n",
      "18\n",
      "20\n"
     ]
    }
   ],
   "source": [
    "i = 0 \n",
    "for i in range (2,21 ,2 ) :\n",
    "    print(i)\n",
    "    i+=1 \n",
    "    "
   ]
  },
  {
   "cell_type": "code",
   "execution_count": 47,
   "id": "60a1c0d3-7434-4195-8053-3fe3904aad6b",
   "metadata": {},
   "outputs": [
    {
     "name": "stdout",
     "output_type": "stream",
     "text": [
      " 11 *1= 11\n",
      " 11 *2= 22\n",
      " 11 *3= 33\n",
      " 11 *4= 44\n",
      " 11 *5= 55\n",
      " 11 *6= 66\n",
      " 11 *7= 77\n",
      " 11 *8= 88\n",
      " 11 *9= 99\n",
      " 11 *10= 110\n"
     ]
    }
   ],
   "source": [
    "x= 11\n",
    "i = 0 \n",
    "for i in range(1, 11):\n",
    "    print (f\" {x} *{i }= {x*i}\")\n",
    "    i+= 1 "
   ]
  },
  {
   "cell_type": "code",
   "execution_count": 1,
   "id": "73b46a81-7a08-418b-83c7-4e18544fe319",
   "metadata": {},
   "outputs": [
    {
     "name": "stdin",
     "output_type": "stream",
     "text": [
      "Enter the password:  15\n"
     ]
    },
    {
     "name": "stdout",
     "output_type": "stream",
     "text": [
      "Incorrect password. Please try again.\n"
     ]
    },
    {
     "name": "stdin",
     "output_type": "stream",
     "text": [
      "Enter the password:  secret\n"
     ]
    },
    {
     "name": "stdout",
     "output_type": "stream",
     "text": [
      "Access granted! Welcome.\n"
     ]
    }
   ],
   "source": [
    "assword = \"\"  # Initialize password to an empty string\n",
    "\n",
    "# Loop until the entered password is \"secret\"\n",
    "wphile password != \"secret\":\n",
    "    password = input(\"Enter the password: \")\n",
    "    if password != \"secret\":\n",
    "        print(\"Incorrect password. Please try again.\")\n",
    "\n",
    "print(\"Access granted! Welcome.\")"
   ]
  },
  {
   "cell_type": "code",
   "execution_count": 2,
   "id": "3d110557-7317-4039-85ed-2cfcdc4e513b",
   "metadata": {},
   "outputs": [
    {
     "name": "stdout",
     "output_type": "stream",
     "text": [
      "1\n",
      "2\n",
      "3\n",
      "4\n",
      "5\n"
     ]
    }
   ],
   "source": [
    "# Print numbers from 1 to 5\n",
    "i = 1\n",
    "while i <= 5:   # loop runs until condition becomes False\n",
    "    print(i)\n",
    "    i += 1      # increase i by 1\n"
   ]
  },
  {
   "cell_type": "code",
   "execution_count": 38,
   "id": "a4c0add0-731d-4596-a187-409e0ea2cbd1",
   "metadata": {},
   "outputs": [
    {
     "name": "stdin",
     "output_type": "stream",
     "text": [
      "Enter the first num:  1\n",
      "enter the second num: 2\n"
     ]
    },
    {
     "name": "stdout",
     "output_type": "stream",
     "text": [
      "The sum of numbers from 1 to 10 is : 3\n",
      "The sum of numbers from 1 to 10 is : 4\n",
      "The sum of numbers from 1 to 10 is : 5\n",
      "The sum of numbers from 1 to 10 is : 6\n",
      "The sum of numbers from 1 to 10 is : 7\n",
      "The sum of numbers from 1 to 10 is : 8\n",
      "The sum of numbers from 1 to 10 is : 9\n",
      "The sum of numbers from 1 to 10 is : 10\n",
      "The sum of numbers from 1 to 10 is : 11\n",
      "The sum of numbers from 1 to 10 is : 12\n"
     ]
    }
   ],
   "source": [
    "\n",
    "num = int(input(\"Enter the first num: \"))\n",
    "total =int(input(\"enter the second num:\")) \n",
    "while num <= 10:\n",
    "    num += 1\n",
    "    total+= 1\n",
    "    print(\"The sum of numbers from 1 to 10 is :\" ,total)\n"
   ]
  },
  {
   "cell_type": "code",
   "execution_count": 1,
   "id": "8d47e9e9-9bac-4f6d-8be1-7f040c8a30d8",
   "metadata": {},
   "outputs": [
    {
     "name": "stdin",
     "output_type": "stream",
     "text": [
      "Enter the name:  NIKITA\n"
     ]
    },
    {
     "name": "stdout",
     "output_type": "stream",
     "text": [
      "Not a palindrome\n"
     ]
    }
   ],
   "source": [
    "str = input(\"Enter the name: \")\n",
    "rev = \"\"\n",
    "\n",
    "for char in str:\n",
    "    rev = char + rev\n",
    "\n",
    "if str == rev:\n",
    "    print(\"Palindrome\")\n",
    "else:\n",
    "    print(\"Not a palindrome\")"
   ]
  },
  {
   "cell_type": "code",
   "execution_count": null,
   "id": "ebf73a29-0a03-4495-9f4c-55d7a049a9c1",
   "metadata": {},
   "outputs": [],
   "source": []
  }
 ],
 "metadata": {
  "kernelspec": {
   "display_name": "Python 3 (ipykernel)",
   "language": "python",
   "name": "python3"
  },
  "language_info": {
   "codemirror_mode": {
    "name": "ipython",
    "version": 3
   },
   "file_extension": ".py",
   "mimetype": "text/x-python",
   "name": "python",
   "nbconvert_exporter": "python",
   "pygments_lexer": "ipython3",
   "version": "3.13.5"
  }
 },
 "nbformat": 4,
 "nbformat_minor": 5
}
