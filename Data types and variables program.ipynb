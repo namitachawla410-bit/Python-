{
 "cells": [
  {
   "cell_type": "code",
   "execution_count": 1,
   "id": "e2da4ce3-f1bc-4fdd-8161-387a429f18e3",
   "metadata": {},
   "outputs": [
    {
     "name": "stdout",
     "output_type": "stream",
     "text": [
      "NAMITA\n"
     ]
    }
   ],
   "source": [
    "print(\"NAMITA\")"
   ]
  },
  {
   "cell_type": "code",
   "execution_count": 5,
   "id": "378b24a6-69ae-46b0-bad0-e00630679785",
   "metadata": {},
   "outputs": [
    {
     "name": "stdout",
     "output_type": "stream",
     "text": [
      "my name is Namita & age is 25 & course is Python\n",
      "my name is Namita & age is 25 & course is Python \n"
     ]
    }
   ],
   "source": [
    "#.format or f string in python\n",
    "name = \"Namita\"\n",
    "age = 25\n",
    "course = \"Python\"\n",
    "print (\"my name is {} & age is {} & course is {}\".format (name ,age ,course) )\n",
    "print(f\"my name is {name} & age is {age} & course is {course } \")"
   ]
  },
  {
   "cell_type": "code",
   "execution_count": 1,
   "id": "a1275f0b-7373-46c2-80c0-240ad5dbf368",
   "metadata": {},
   "outputs": [
    {
     "name": "stdout",
     "output_type": "stream",
     "text": [
      "<class 'int'>\n",
      "<class 'float'>\n",
      "<class 'str'>\n",
      "<class 'str'>\n",
      "<class 'complex'>\n",
      "<class 'set'>\n",
      "<class 'tuple'>\n",
      "<class 'list'>\n",
      "<class 'tuple'>\n",
      "<class 'bool'>\n",
      "<class 'NoneType'>\n",
      "<class 'tuple'>\n"
     ]
    }
   ],
   "source": [
    "#Different data types \n",
    "x = 23\n",
    "y = 29.8\n",
    "z = \"25\"\n",
    "X = \"NAME\"\n",
    "a = 2+3j \n",
    "b = {12,24,36,48,60}\n",
    "c = (12,24,36,48,60)\n",
    "d = [12,24,36,48,60]\n",
    "i = (\"apple\", \"mango\",23 , \"grapes\")\n",
    "j = True \n",
    "k = None\n",
    "l =(2,)\n",
    "\n",
    "print(type(x))\n",
    "print(type(y))\n",
    "print(type(z))\n",
    "print(type(X))\n",
    "print(type(a))\n",
    "print(type(b))\n",
    "print(type(c))\n",
    "print(type(d))\n",
    "print(type(i))\n",
    "print(type(j))\n",
    "print(type(k))\n",
    "print(type(l))"
   ]
  },
  {
   "cell_type": "code",
   "execution_count": 16,
   "id": "0d4ca677-4b27-4e2d-a8cf-fb0680177d8a",
   "metadata": {},
   "outputs": [
    {
     "name": "stdout",
     "output_type": "stream",
     "text": [
      "48\n"
     ]
    }
   ],
   "source": [
    "#for sum \n",
    "a= 23\n",
    "b = \"25\"\n",
    "c =int(b)\n",
    "sum = (a+c)\n",
    "print(sum)"
   ]
  },
  {
   "cell_type": "code",
   "execution_count": 18,
   "id": "b3957c18-2796-4b15-bef1-09e25c8530e1",
   "metadata": {},
   "outputs": [
    {
     "name": "stdout",
     "output_type": "stream",
     "text": [
      "21\n",
      "17\n",
      "38\n",
      "9.5\n",
      "9\n",
      "1\n",
      "361\n"
     ]
    }
   ],
   "source": [
    "#Arithmatic operators \n",
    "a = 19\n",
    "b = 2\n",
    "\n",
    "print(a+b)\n",
    "print(a-b)\n",
    "print(a*b)\n",
    "print(a/b)\n",
    "print(a//b)  #  for quotient\n",
    "print(a%b)   #  modulo for remainder\n",
    "print(a**b)   # for a to power b"
   ]
  },
  {
   "cell_type": "code",
   "execution_count": 19,
   "id": "c080b89b-a2c1-499d-a164-de068fb80ba0",
   "metadata": {},
   "outputs": [
    {
     "name": "stdout",
     "output_type": "stream",
     "text": [
      "False\n",
      "True\n",
      "False\n",
      "True\n",
      "True\n",
      "False\n"
     ]
    }
   ],
   "source": [
    "#Relational operators\n",
    "a = 45\n",
    "b = 38\n",
    "\n",
    "print(a==b)\n",
    "print(a!=b)\n",
    "print(a<b)\n",
    "print(a>b)\n",
    "print(a>=b)\n",
    "print(a<=b)"
   ]
  },
  {
   "cell_type": "code",
   "execution_count": 21,
   "id": "6de92c30-aa46-484b-a1ce-de1e084b08a0",
   "metadata": {},
   "outputs": [
    {
     "name": "stdout",
     "output_type": "stream",
     "text": [
      "False\n",
      "True\n"
     ]
    }
   ],
   "source": [
    "#Logical operators (AND ,NOT ,OR )\n",
    "a = 50\n",
    "b = 40\n",
    "\n",
    "print (a==b and a>b)\n",
    "print(a==b or a>b)\n"
   ]
  },
  {
   "cell_type": "code",
   "execution_count": 22,
   "id": "8a4337ce-c28e-4243-9a5a-700b9f12460b",
   "metadata": {},
   "outputs": [
    {
     "name": "stdout",
     "output_type": "stream",
     "text": [
      "39.89\n"
     ]
    }
   ],
   "source": [
    "#typeconversion # convert automatically\n",
    "a = 20\n",
    "b = 19.89\n",
    "print (a+b)"
   ]
  },
  {
   "cell_type": "code",
   "execution_count": 23,
   "id": "38bd3fab-0d94-4deb-a943-262538586e85",
   "metadata": {},
   "outputs": [
    {
     "name": "stdout",
     "output_type": "stream",
     "text": [
      "123\n",
      "123.0\n"
     ]
    }
   ],
   "source": [
    "#Typecasting \n",
    "a =\"123\"\n",
    "b = int(a)\n",
    "print(b)\n",
    "\n",
    "c = float(a)\n",
    "print(c)"
   ]
  },
  {
   "cell_type": "code",
   "execution_count": 24,
   "id": "c6f16b4b-1331-45fc-a07e-27880e8fd28d",
   "metadata": {},
   "outputs": [
    {
     "name": "stdout",
     "output_type": "stream",
     "text": [
      "49.0\n"
     ]
    }
   ],
   "source": [
    "a = 25\n",
    "b = 24\n",
    "print(float(a+b))"
   ]
  },
  {
   "cell_type": "code",
   "execution_count": 25,
   "id": "59675a27-67f2-4820-a378-67dea81e3841",
   "metadata": {},
   "outputs": [
    {
     "name": "stdout",
     "output_type": "stream",
     "text": [
      "44\n"
     ]
    }
   ],
   "source": [
    "a = 19.8\n",
    "b = 25\n",
    "print(int(a+b))\n"
   ]
  },
  {
   "cell_type": "code",
   "execution_count": 27,
   "id": "73abf441-9058-4c4a-8190-0516b1d09dda",
   "metadata": {},
   "outputs": [
    {
     "name": "stdin",
     "output_type": "stream",
     "text": [
      "Enter the number: 12\n",
      "Enter the number: 15\n"
     ]
    },
    {
     "name": "stdout",
     "output_type": "stream",
     "text": [
      "27\n"
     ]
    }
   ],
   "source": [
    "#Input from user\n",
    "a = int(input(\"Enter the number:\"))\n",
    "b = int(input(\"Enter the number:\"))\n",
    "print(a+b )"
   ]
  },
  {
   "cell_type": "code",
   "execution_count": 1,
   "id": "927b8fe8-f553-40cf-b9fb-cba12ce5717d",
   "metadata": {},
   "outputs": [
    {
     "name": "stdout",
     "output_type": "stream",
     "text": [
      "48.9\n"
     ]
    }
   ],
   "source": [
    "a= 23\n",
    "b = 25.9\n",
    "sum = (a+b)\n",
    "print (sum)"
   ]
  },
  {
   "cell_type": "code",
   "execution_count": 11,
   "id": "9fca5571-cdb7-4d99-bbb5-7085686e8947",
   "metadata": {},
   "outputs": [
    {
     "name": "stdin",
     "output_type": "stream",
     "text": [
      "enter the side of a square : 12\n"
     ]
    },
    {
     "name": "stdout",
     "output_type": "stream",
     "text": [
      "Area = 144\n"
     ]
    }
   ],
   "source": [
    "#Write a program for find area of square \n",
    "side =int(input(\"enter the side of a square :\"))\n",
    "print(\"Area =\",side*side) "
   ]
  },
  {
   "cell_type": "code",
   "execution_count": 16,
   "id": "8bd0b533-cb5a-4bb0-bc21-b56436835337",
   "metadata": {},
   "outputs": [
    {
     "name": "stdin",
     "output_type": "stream",
     "text": [
      "enter the number: 28.8\n",
      "enter the number: 19.9\n"
     ]
    },
    {
     "name": "stdout",
     "output_type": "stream",
     "text": [
      "average =  24.35\n"
     ]
    }
   ],
   "source": [
    "#Find the average of twonumbers \n",
    "a= float(input(\"enter the number:\"))\n",
    "b =float(input(\"enter the number:\"))\n",
    "print(\"average = \", (a+b)/2)\n"
   ]
  },
  {
   "cell_type": "code",
   "execution_count": 17,
   "id": "784856f9-3f77-4daf-b51b-f3be243685a6",
   "metadata": {},
   "outputs": [
    {
     "name": "stdin",
     "output_type": "stream",
     "text": [
      "enter the number: 15\n",
      "enter the number: 9\n"
     ]
    },
    {
     "name": "stdout",
     "output_type": "stream",
     "text": [
      "True\n"
     ]
    }
   ],
   "source": [
    "# Print two numbers and write true or false \n",
    "a = int(input(\"enter the number:\"))\n",
    "b = int(input(\"enter the number:\"))\n",
    "if a>=b :\n",
    "    print(True)\n",
    "else:\n",
    "    print(False)"
   ]
  },
  {
   "cell_type": "code",
   "execution_count": 18,
   "id": "94354782-46b8-4bd6-9755-29af1daeaa56",
   "metadata": {},
   "outputs": [
    {
     "name": "stdin",
     "output_type": "stream",
     "text": [
      "enter the number: 19\n",
      "enter the number: 16\n"
     ]
    },
    {
     "name": "stdout",
     "output_type": "stream",
     "text": [
      "True\n"
     ]
    }
   ],
   "source": [
    "# Print two numbers and write true or false\n",
    "a = int(input(\"enter the number:\"))\n",
    "b = int(input(\"enter the number:\"))\n",
    "print(a>=b)"
   ]
  },
  {
   "cell_type": "code",
   "execution_count": null,
   "id": "5c0b1609-07e5-4fa1-9cd4-1480ad33f3f4",
   "metadata": {},
   "outputs": [],
   "source": []
  },
  {
   "cell_type": "code",
   "execution_count": null,
   "id": "cd96008e-2701-4bfb-8b89-8f360dfb8c4e",
   "metadata": {},
   "outputs": [],
   "source": []
  }
 ],
 "metadata": {
  "kernelspec": {
   "display_name": "Python 3 (ipykernel)",
   "language": "python",
   "name": "python3"
  },
  "language_info": {
   "codemirror_mode": {
    "name": "ipython",
    "version": 3
   },
   "file_extension": ".py",
   "mimetype": "text/x-python",
   "name": "python",
   "nbconvert_exporter": "python",
   "pygments_lexer": "ipython3",
   "version": "3.13.5"
  }
 },
 "nbformat": 4,
 "nbformat_minor": 5
}
