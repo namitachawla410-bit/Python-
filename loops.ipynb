{
 "cells": [
  {
   "cell_type": "code",
   "execution_count": 1,
   "id": "80be7770-5f4c-4d31-b579-f4f3e28d3aa6",
   "metadata": {},
   "outputs": [
    {
     "name": "stdout",
     "output_type": "stream",
     "text": [
      "1\n",
      "2\n",
      "3\n",
      "4\n",
      "5\n",
      "6\n",
      "7\n",
      "8\n",
      "9\n",
      "10\n",
      "11\n",
      "12\n",
      "13\n",
      "14\n",
      "15\n",
      "16\n",
      "17\n",
      "18\n",
      "19\n",
      "20\n",
      "21\n",
      "22\n",
      "23\n",
      "24\n",
      "25\n",
      "26\n",
      "27\n",
      "28\n",
      "29\n",
      "30\n",
      "31\n",
      "32\n",
      "33\n",
      "34\n",
      "35\n",
      "36\n",
      "37\n",
      "38\n",
      "39\n",
      "40\n",
      "41\n",
      "42\n",
      "43\n",
      "44\n",
      "45\n",
      "46\n",
      "47\n",
      "48\n",
      "49\n",
      "50\n",
      "51\n",
      "52\n",
      "53\n",
      "54\n",
      "55\n",
      "56\n",
      "57\n",
      "58\n",
      "59\n",
      "60\n",
      "61\n",
      "62\n",
      "63\n",
      "64\n",
      "65\n",
      "66\n",
      "67\n",
      "68\n",
      "69\n",
      "70\n",
      "71\n",
      "72\n",
      "73\n",
      "74\n",
      "75\n",
      "76\n",
      "77\n",
      "78\n",
      "79\n",
      "80\n",
      "81\n",
      "82\n",
      "83\n",
      "84\n",
      "85\n",
      "86\n",
      "87\n",
      "88\n",
      "89\n",
      "90\n",
      "91\n",
      "92\n",
      "93\n",
      "94\n",
      "95\n",
      "96\n",
      "97\n",
      "98\n",
      "99\n",
      "100\n",
      "end of loop\n"
     ]
    }
   ],
   "source": [
    "# for print numbers 1 to 100 and in last end of loop  (using while loop)\n",
    "i = 1 \n",
    "while i <= 100 :\n",
    "    print(i)\n",
    "    i += 1\n",
    "print(\"end of loop\")"
   ]
  },
  {
   "cell_type": "code",
   "execution_count": 3,
   "id": "e7ecc338-f072-42dc-8959-56476fcda047",
   "metadata": {},
   "outputs": [
    {
     "name": "stdout",
     "output_type": "stream",
     "text": [
      "100\n",
      "99\n",
      "98\n",
      "97\n",
      "96\n",
      "95\n",
      "94\n",
      "93\n",
      "92\n",
      "91\n",
      "90\n",
      "89\n",
      "88\n",
      "87\n",
      "86\n",
      "85\n",
      "84\n",
      "83\n",
      "82\n",
      "81\n",
      "80\n",
      "79\n",
      "78\n",
      "77\n",
      "76\n",
      "75\n",
      "74\n",
      "73\n",
      "72\n",
      "71\n",
      "70\n",
      "69\n",
      "68\n",
      "67\n",
      "66\n",
      "65\n",
      "64\n",
      "63\n",
      "62\n",
      "61\n",
      "60\n",
      "59\n",
      "58\n",
      "57\n",
      "56\n",
      "55\n",
      "54\n",
      "53\n",
      "52\n",
      "51\n",
      "50\n",
      "49\n",
      "48\n",
      "47\n",
      "46\n",
      "45\n",
      "44\n",
      "43\n",
      "42\n",
      "41\n",
      "40\n",
      "39\n",
      "38\n",
      "37\n",
      "36\n",
      "35\n",
      "34\n",
      "33\n",
      "32\n",
      "31\n",
      "30\n",
      "29\n",
      "28\n",
      "27\n",
      "26\n",
      "25\n",
      "24\n",
      "23\n",
      "22\n",
      "21\n",
      "20\n",
      "19\n",
      "18\n",
      "17\n",
      "16\n",
      "15\n",
      "14\n",
      "13\n",
      "12\n",
      "11\n",
      "10\n",
      "9\n",
      "8\n",
      "7\n",
      "6\n",
      "5\n",
      "4\n",
      "3\n",
      "2\n",
      "1\n",
      "loop break\n"
     ]
    }
   ],
   "source": [
    "# print numbers from 100 to 1 ...and loop break (using while loop)\n",
    "i = 100\n",
    "while i >= 1 :\n",
    "    print(i)\n",
    "    i -= 1\n",
    "print('loop break')"
   ]
  },
  {
   "cell_type": "code",
   "execution_count": 4,
   "id": "ebbec942-0af6-4d13-a3b9-5f5d9b48b3f3",
   "metadata": {},
   "outputs": [
    {
     "name": "stdin",
     "output_type": "stream",
     "text": [
      "enter the number: 6\n"
     ]
    },
    {
     "name": "stdout",
     "output_type": "stream",
     "text": [
      "6\n",
      "12\n",
      "18\n",
      "24\n",
      "30\n",
      "36\n",
      "42\n",
      "48\n",
      "54\n",
      "60\n"
     ]
    }
   ],
   "source": [
    "#Multiplication table of a number n (using while loop)\n",
    "n =int(input(\"enter the number:\"))\n",
    "i = 1 \n",
    "while i <= 10 :\n",
    "    print(n*i)\n",
    "    i+= 1\n",
    "    "
   ]
  },
  {
   "cell_type": "code",
   "execution_count": 5,
   "id": "b2918ea5-2191-443c-ae1f-7518a453f207",
   "metadata": {},
   "outputs": [
    {
     "name": "stdout",
     "output_type": "stream",
     "text": [
      "1\n",
      "4\n",
      "9\n",
      "16\n",
      "25\n",
      "36\n",
      "49\n",
      "64\n",
      "81\n",
      "100\n"
     ]
    }
   ],
   "source": [
    "# print the square root of 1 to 10 (using while loop)\n",
    "i = 1\n",
    "while i <= 10:\n",
    "    print(i**2)\n",
    "    i+= 1"
   ]
  },
  {
   "cell_type": "code",
   "execution_count": 12,
   "id": "edc005fe-446d-4def-b413-495f54cc030a",
   "metadata": {},
   "outputs": [
    {
     "name": "stdout",
     "output_type": "stream",
     "text": [
      "1\n",
      "4\n",
      "9\n",
      "16\n",
      "25\n",
      "36\n",
      "49\n",
      "64\n",
      "81\n",
      "100\n"
     ]
    }
   ],
   "source": [
    "# print elements of this list (using while loop)\n",
    "n = [1,4,9,16,25,36,49,64,81,100] \n",
    "i = 0\n",
    "while i < len(n):\n",
    "    print(n[i])\n",
    "    i += 1"
   ]
  },
  {
   "cell_type": "code",
   "execution_count": 1,
   "id": "a2a94729-9003-4061-a87b-462637edd7f7",
   "metadata": {},
   "outputs": [
    {
     "name": "stdout",
     "output_type": "stream",
     "text": [
      "target foumd at i 7\n"
     ]
    }
   ],
   "source": [
    "# find a number from this tuple (using while loop)\n",
    "n = (1,4,9,16,25,36,49,64,81,100)\n",
    "i = 0\n",
    "while i < len(n):\n",
    "    if (n[i]== 64):\n",
    "        print(\"target foumd at i\",i)\n",
    "    i += 1"
   ]
  },
  {
   "cell_type": "code",
   "execution_count": 3,
   "id": "02703d0b-f029-4ed5-b135-08675e8b15c2",
   "metadata": {},
   "outputs": [
    {
     "name": "stdout",
     "output_type": "stream",
     "text": [
      "finding\n",
      "finding\n",
      "finding\n",
      "finding\n",
      "finding\n",
      "finding\n",
      "finding\n",
      "finding\n",
      "target foumd at i 8\n",
      "finding\n"
     ]
    }
   ],
   "source": [
    "# target finding at (using while loop)\n",
    "n = (1,4,9,16,25,36,49,64,81,100)\n",
    "i = 0\n",
    "while i < len(n):\n",
    "    if (n[i]== 81):\n",
    "        print(\"target foumd at i\",i)\n",
    "    else:\n",
    "        print(\"finding\")\n",
    "    i += 1 \n",
    "    \n",
    "        "
   ]
  },
  {
   "cell_type": "code",
   "execution_count": 3,
   "id": "3c33bc97-54fc-45f3-ab49-ecfde5bb1596",
   "metadata": {},
   "outputs": [
    {
     "name": "stdout",
     "output_type": "stream",
     "text": [
      "1\n",
      "4\n",
      "9\n",
      "16\n",
      "25\n",
      "49\n",
      "64\n",
      "81\n",
      "100\n"
     ]
    }
   ],
   "source": [
    "# for print elements of this list (using for loop)\n",
    "n= [1,4,9,16,25,49,64,81,100]\n",
    "for i in n:\n",
    "    print (i)"
   ]
  },
  {
   "cell_type": "code",
   "execution_count": 12,
   "id": "21628059-c387-4fec-8c00-3d5c3c0108d0",
   "metadata": {},
   "outputs": [
    {
     "name": "stdout",
     "output_type": "stream",
     "text": [
      "finding\n",
      "finding\n",
      "finding\n",
      "finding\n",
      "finding\n",
      "finding\n",
      "target found  6\n"
     ]
    }
   ],
   "source": [
    "# finding a no. from this tuple (using for loop)\n",
    "n = (1,4,9,16,25,36,49,64,81,100)\n",
    "i= 0\n",
    "for el in n:\n",
    "    if( el == 49):\n",
    "        print(\"target found \",i)\n",
    "        break\n",
    "    else:\n",
    "        print(\"finding\")\n",
    "    i+=1"
   ]
  },
  {
   "cell_type": "code",
   "execution_count": 13,
   "id": "42a56bbf-460e-4e91-b797-64a1bdbd6b6d",
   "metadata": {},
   "outputs": [
    {
     "name": "stdout",
     "output_type": "stream",
     "text": [
      "finding\n",
      "finding\n",
      "finding\n",
      "finding\n",
      "finding\n",
      "finding\n",
      "target found  6\n",
      "finding\n",
      "finding\n",
      "finding\n"
     ]
    }
   ],
   "source": [
    "# find the element in tuple (using for loop and continue)\n",
    "n = (1,4,9,16,25,36,49,64,81,100)\n",
    "i= 0\n",
    "for el in n:\n",
    "    if( el == 49):\n",
    "        print(\"target found \",i)\n",
    "        continue\n",
    "    else:\n",
    "        print(\"finding\")\n",
    "    i+=1"
   ]
  },
  {
   "cell_type": "code",
   "execution_count": 14,
   "id": "905e4434-6839-48e1-b292-4e39c1c8798b",
   "metadata": {},
   "outputs": [
    {
     "name": "stdout",
     "output_type": "stream",
     "text": [
      "1\n",
      "2\n",
      "3\n",
      "4\n",
      "5\n",
      "6\n",
      "7\n",
      "8\n"
     ]
    }
   ],
   "source": [
    "# FOr print numbers from (1 to 9th )index \n",
    "n =[1,2,3,4,5,6,7,8,9,12]\n",
    "for n in range (1,9):\n",
    "    print(n)"
   ]
  },
  {
   "cell_type": "code",
   "execution_count": 1,
   "id": "8c4fa3df-397f-46d7-a5fe-6cac232aa8a0",
   "metadata": {},
   "outputs": [
    {
     "name": "stdout",
     "output_type": "stream",
     "text": [
      "0\n",
      "2\n",
      "4\n",
      "6\n",
      "8\n",
      "10\n",
      "12\n",
      "14\n",
      "16\n",
      "18\n",
      "20\n",
      "22\n",
      "24\n",
      "26\n",
      "28\n",
      "30\n",
      "32\n",
      "34\n",
      "36\n",
      "38\n"
     ]
    }
   ],
   "source": [
    "# for print even numer\n",
    "for i in range (0,40,2):\n",
    "    print(i)"
   ]
  },
  {
   "cell_type": "code",
   "execution_count": 2,
   "id": "3dfdabb0-b263-4f87-89ec-a827f7132c10",
   "metadata": {},
   "outputs": [
    {
     "name": "stdout",
     "output_type": "stream",
     "text": [
      "1\n",
      "2\n",
      "3\n",
      "4\n",
      "5\n",
      "6\n",
      "7\n",
      "8\n",
      "9\n",
      "10\n",
      "11\n",
      "12\n",
      "13\n",
      "14\n",
      "15\n",
      "16\n",
      "17\n",
      "18\n",
      "19\n",
      "20\n",
      "21\n",
      "22\n",
      "23\n",
      "24\n",
      "25\n",
      "26\n",
      "27\n",
      "28\n",
      "29\n",
      "30\n",
      "31\n",
      "32\n",
      "33\n",
      "34\n",
      "35\n",
      "36\n",
      "37\n",
      "38\n",
      "39\n",
      "40\n",
      "41\n",
      "42\n",
      "43\n",
      "44\n",
      "45\n",
      "46\n",
      "47\n",
      "48\n",
      "49\n",
      "50\n",
      "51\n",
      "52\n",
      "53\n",
      "54\n",
      "55\n",
      "56\n",
      "57\n",
      "58\n",
      "59\n",
      "60\n",
      "61\n",
      "62\n",
      "63\n",
      "64\n",
      "65\n",
      "66\n",
      "67\n",
      "68\n",
      "69\n",
      "70\n",
      "71\n",
      "72\n",
      "73\n",
      "74\n",
      "75\n",
      "76\n",
      "77\n",
      "78\n",
      "79\n",
      "80\n",
      "81\n",
      "82\n",
      "83\n",
      "84\n",
      "85\n",
      "86\n",
      "87\n",
      "88\n",
      "89\n",
      "90\n",
      "91\n",
      "92\n",
      "93\n",
      "94\n",
      "95\n",
      "96\n",
      "97\n",
      "98\n",
      "99\n",
      "100\n"
     ]
    }
   ],
   "source": [
    "# print numbers from 1 to 100 using for loop\n",
    "for i in range (1,101):\n",
    "    print(i)"
   ]
  },
  {
   "cell_type": "code",
   "execution_count": 5,
   "id": "87165e81-b7ce-4259-ab66-88e4eefe9978",
   "metadata": {},
   "outputs": [
    {
     "name": "stdin",
     "output_type": "stream",
     "text": [
      "enter the number: 5\n"
     ]
    },
    {
     "name": "stdout",
     "output_type": "stream",
     "text": [
      "5\n",
      "10\n",
      "15\n",
      "20\n",
      "25\n",
      "30\n",
      "35\n",
      "40\n",
      "45\n",
      "50\n"
     ]
    }
   ],
   "source": [
    "#print multiplication table of number n using for loop\n",
    "n = int(input(\"enter the number:\"))\n",
    "for i in range (1, 11):\n",
    "    print(n*i)\n",
    "    "
   ]
  },
  {
   "cell_type": "code",
   "execution_count": 8,
   "id": "3d666bf5-de00-4036-bad6-ed0735a9fa97",
   "metadata": {},
   "outputs": [
    {
     "name": "stdout",
     "output_type": "stream",
     "text": [
      "100\n",
      "99\n",
      "98\n",
      "97\n",
      "96\n",
      "95\n",
      "94\n",
      "93\n",
      "92\n",
      "91\n",
      "90\n",
      "89\n",
      "88\n",
      "87\n",
      "86\n",
      "85\n",
      "84\n",
      "83\n",
      "82\n",
      "81\n",
      "80\n",
      "79\n",
      "78\n",
      "77\n",
      "76\n",
      "75\n",
      "74\n",
      "73\n",
      "72\n",
      "71\n",
      "70\n",
      "69\n",
      "68\n",
      "67\n",
      "66\n",
      "65\n",
      "64\n",
      "63\n",
      "62\n",
      "61\n",
      "60\n",
      "59\n",
      "58\n",
      "57\n",
      "56\n",
      "55\n",
      "54\n",
      "53\n",
      "52\n",
      "51\n",
      "50\n",
      "49\n",
      "48\n",
      "47\n",
      "46\n",
      "45\n",
      "44\n",
      "43\n",
      "42\n",
      "41\n",
      "40\n",
      "39\n",
      "38\n",
      "37\n",
      "36\n",
      "35\n",
      "34\n",
      "33\n",
      "32\n",
      "31\n",
      "30\n",
      "29\n",
      "28\n",
      "27\n",
      "26\n",
      "25\n",
      "24\n",
      "23\n",
      "22\n",
      "21\n",
      "20\n",
      "19\n",
      "18\n",
      "17\n",
      "16\n",
      "15\n",
      "14\n",
      "13\n",
      "12\n",
      "11\n",
      "10\n",
      "9\n",
      "8\n",
      "7\n",
      "6\n",
      "5\n",
      "4\n",
      "3\n",
      "2\n",
      "1\n"
     ]
    }
   ],
   "source": [
    "#print numbers from 100 to 1 using for loop\n",
    "for i in range(100,0,-1):\n",
    "    print(i)"
   ]
  },
  {
   "cell_type": "code",
   "execution_count": 1,
   "id": "b13feb07-dc38-4cc2-b34e-1e8e4f5e557a",
   "metadata": {},
   "outputs": [
    {
     "name": "stdin",
     "output_type": "stream",
     "text": [
      "enter the number: 8\n"
     ]
    },
    {
     "name": "stdout",
     "output_type": "stream",
     "text": [
      "total sum = 36\n"
     ]
    }
   ],
   "source": [
    "# sum first n numbers (using while loop )\n",
    "n =int(input('enter the number:'))\n",
    "i = 1\n",
    "sum= 0\n",
    "while i<= n:\n",
    "    sum+=i\n",
    "    i+= 1\n",
    "print(\"total sum =\",sum)"
   ]
  },
  {
   "cell_type": "code",
   "execution_count": 6,
   "id": "5d398efb-74ff-4b7b-9af0-ff72d630cada",
   "metadata": {},
   "outputs": [
    {
     "name": "stdin",
     "output_type": "stream",
     "text": [
      "enter the number: 8\n"
     ]
    },
    {
     "name": "stdout",
     "output_type": "stream",
     "text": [
      "total sum = 36\n"
     ]
    }
   ],
   "source": [
    "# sum first n numbers (using for loop )\n",
    "n =int(input('enter the number:'))\n",
    "i = 1\n",
    "sum= 0\n",
    "for i in range(1,n+1):\n",
    "    sum+=i\n",
    "    i+= 1\n",
    "print(\"total sum =\",sum)"
   ]
  },
  {
   "cell_type": "code",
   "execution_count": 2,
   "id": "6af09141-54cc-4723-aef5-07fb2272ced6",
   "metadata": {},
   "outputs": [
    {
     "name": "stdin",
     "output_type": "stream",
     "text": [
      "enter the number: 8\n"
     ]
    },
    {
     "name": "stdout",
     "output_type": "stream",
     "text": [
      "factorial of number is = 40320\n"
     ]
    }
   ],
   "source": [
    "# for finding factorial of number (using while loop)\n",
    "n =int(input('enter the number:'))\n",
    "i = 1\n",
    "factorial = 1\n",
    "while i<= n:\n",
    "    factorial *=i\n",
    "    i+= 1\n",
    "print(\"factorial of number is =\",factorial)"
   ]
  },
  {
   "cell_type": "code",
   "execution_count": 1,
   "id": "a796a9fd-db0f-44b6-b797-c2589211fa9e",
   "metadata": {},
   "outputs": [
    {
     "name": "stdin",
     "output_type": "stream",
     "text": [
      "enter the number: 5\n"
     ]
    },
    {
     "name": "stdout",
     "output_type": "stream",
     "text": [
      "factorial of number is = 120\n"
     ]
    }
   ],
   "source": [
    "# for finding factorial of number (using for loop)\n",
    "\n",
    "n =int(input('enter the number:'))\n",
    "i = 1\n",
    "factorial = 1\n",
    "for i in range (1 ,n+1):\n",
    "    factorial *=i\n",
    "    i+= 1\n",
    "print(\"factorial of number is =\",factorial)"
   ]
  },
  {
   "cell_type": "code",
   "execution_count": 2,
   "id": "b82c7e55-c0c5-4d8f-baac-08713e4a2eb4",
   "metadata": {},
   "outputs": [
    {
     "name": "stdout",
     "output_type": "stream",
     "text": [
      "3\n",
      "2\n",
      "1\n",
      "0\n",
      "-1\n"
     ]
    }
   ],
   "source": [
    "n= 4\n",
    "while n >= 0:\n",
    "    n = n - 1\n",
    "    print(n)"
   ]
  },
  {
   "cell_type": "code",
   "execution_count": 3,
   "id": "b5bccea3-43b3-4231-b150-ebce3202bf8c",
   "metadata": {},
   "outputs": [
    {
     "name": "stdout",
     "output_type": "stream",
     "text": [
      "1\n",
      "2\n",
      "3\n",
      "4\n",
      "5\n"
     ]
    }
   ],
   "source": [
    "n = 1\n",
    "while n <= 5:\n",
    "    print(n)\n",
    "    n = n + 1"
   ]
  },
  {
   "cell_type": "code",
   "execution_count": null,
   "id": "186c331b-3d0e-4685-8613-5a044dc70a8b",
   "metadata": {},
   "outputs": [],
   "source": []
  }
 ],
 "metadata": {
  "kernelspec": {
   "display_name": "Python 3 (ipykernel)",
   "language": "python",
   "name": "python3"
  },
  "language_info": {
   "codemirror_mode": {
    "name": "ipython",
    "version": 3
   },
   "file_extension": ".py",
   "mimetype": "text/x-python",
   "name": "python",
   "nbconvert_exporter": "python",
   "pygments_lexer": "ipython3",
   "version": "3.13.5"
  }
 },
 "nbformat": 4,
 "nbformat_minor": 5
}
