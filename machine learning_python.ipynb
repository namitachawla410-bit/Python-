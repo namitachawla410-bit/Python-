{
 "cells": [
  {
   "cell_type": "code",
   "execution_count": 18,
   "id": "3d4f5709-b76a-48db-9283-884c45de7da1",
   "metadata": {},
   "outputs": [
    {
     "name": "stdout",
     "output_type": "stream",
     "text": [
      "112 119 126 133 147 154 161 168 182 189 196 203 217 224 231 238 252 259 266 273 287 294 299 "
     ]
    }
   ],
   "source": [
    "# 1 Find number divided by 7 not by 5 \n",
    "for i in range (100,300):\n",
    "    if i% 7 == 0 and i % 5 != 0 :\n",
    "        print(i ,end = \" \")\n",
    "print(i ,end = \" \")"
   ]
  },
  {
   "cell_type": "code",
   "execution_count": 15,
   "id": "a434bd1d-2d7a-415b-ae70-2800149b80f4",
   "metadata": {},
   "outputs": [
    {
     "name": "stdout",
     "output_type": "stream",
     "text": [
      "112,119,126,133,147,154,161,168,182,189,196,203,217,224,231,238,252,259,266,273,287,294\n"
     ]
    }
   ],
   "source": [
    "def find_numbers(start, end):\n",
    "    result = []\n",
    "    for i in range(start, end + 1):\n",
    "        if i % 7 == 0 and i % 5 != 0:\n",
    "            result.append(str(i))\n",
    "    return ','.join(result)\n",
    "    \n",
    "print(find_numbers(100, 300))"
   ]
  },
  {
   "cell_type": "code",
   "execution_count": 23,
   "id": "72c906c1-2e4d-46a3-ba2c-5e5f98ab08d8",
   "metadata": {},
   "outputs": [
    {
     "data": {
      "text/plain": [
       "{1: 1, 2: 4, 3: 9, 4: 16, 5: 25, 6: 36, 7: 49, 8: 64, 9: 81}"
      ]
     },
     "execution_count": 23,
     "metadata": {},
     "output_type": "execute_result"
    }
   ],
   "source": [
    "# genrate square dictionary\n",
    "def genrate_square_dict(n):\n",
    "    dict = {}\n",
    "    for i in range (1,n+1):\n",
    "        dict[i] = i**2\n",
    "    return dict\n",
    "genrate_square_dict(9)\n",
    "    "
   ]
  },
  {
   "cell_type": "code",
   "execution_count": 3,
   "id": "623368b3-f80e-4605-9703-8eaf0e29b88c",
   "metadata": {},
   "outputs": [
    {
     "name": "stdout",
     "output_type": "stream",
     "text": [
      "(['3', '6', '5', '3', '2', '8'], ('3', '6', '5', '3', '2', '8'))\n"
     ]
    }
   ],
   "source": [
    "# Sequence to list and tuple\n",
    "def convert_input_to_list_and_tuple(string):\n",
    "    values = string.split(\",\")\n",
    "    return values,tuple(values)\n",
    "print (convert_input_to_list_and_tuple(\"3,6,5,3,2,8\"))\n",
    "    "
   ]
  },
  {
   "cell_type": "code",
   "execution_count": 31,
   "id": "f61cf547-f0c5-433f-9e0d-2fe40643eb8c",
   "metadata": {},
   "outputs": [
    {
     "data": {
      "text/plain": [
       "'18,22,24'"
      ]
     },
     "execution_count": 31,
     "metadata": {},
     "output_type": "execute_result"
    }
   ],
   "source": [
    "import math\n",
    "def calculate_q_values(d_values):\n",
    "    C = 50\n",
    "    H = 30\n",
    "    value = []\n",
    "    items = [float(x) for x in d_values.split(',')]\n",
    "    for D in items:\n",
    "        Q = round(math.sqrt((2 * C * D) / H))\n",
    "        value.append(str(Q))\n",
    "    return ','.join(value)\n",
    "calculate_q_values('100,150,180')"
   ]
  },
  {
   "cell_type": "code",
   "execution_count": 34,
   "id": "609eb144-c13f-47bf-bf2a-f759f38bc93b",
   "metadata": {},
   "outputs": [
    {
     "name": "stdout",
     "output_type": "stream",
     "text": [
      "[[0, 0, 0], [0, 1, 2], [0, 2, 4], [0, 3, 6]]\n"
     ]
    }
   ],
   "source": [
    "# create matrix \n",
    "def create_matrix(M,N):\n",
    "    return [[i * j for j in range(N)] for i in range(M)]\n",
    "print(create_matrix(4,3))"
   ]
  },
  {
   "cell_type": "code",
   "execution_count": 35,
   "id": "f2965143-1236-4ade-9227-ab1c62c28a79",
   "metadata": {},
   "outputs": [
    {
     "data": {
      "text/plain": [
       "'apple,banana,grape,orange'"
      ]
     },
     "execution_count": 35,
     "metadata": {},
     "output_type": "execute_result"
    }
   ],
   "source": [
    "# sort comma separated words \n",
    "def sort_words(words):\n",
    "    return ','.join(sorted(words.split(',')))\n",
    "sort_words('banana,apple,grape,orange')"
   ]
  },
  {
   "cell_type": "code",
   "execution_count": 36,
   "id": "c5adb565-4685-46dc-9cca-0d90fba519d2",
   "metadata": {},
   "outputs": [
    {
     "data": {
      "text/plain": [
       "['SUNDAYS ARE FUN', 'MONDAY IS DONE']"
      ]
     },
     "execution_count": 36,
     "metadata": {},
     "output_type": "execute_result"
    }
   ],
   "source": [
    "# Capitalize all lines \n",
    "def capitalize_lines(lines):\n",
    "    return [line.upper() for line in lines]\n",
    "capitalize_lines(['Sundays are Fun', 'Monday is Done'])"
   ]
  },
  {
   "cell_type": "code",
   "execution_count": 37,
   "id": "8aff24fa-348f-455a-88f1-cc98d6a6e58a",
   "metadata": {},
   "outputs": [
    {
     "data": {
      "text/plain": [
       "'apple banana cat dog'"
      ]
     },
     "execution_count": 37,
     "metadata": {},
     "output_type": "execute_result"
    }
   ],
   "source": [
    "def unique_sorted_words(sentence):\n",
    "    return ' '.join(sorted(set(sentence.split())))\n",
    "unique_sorted_words('dog cat apple cat banana dog')"
   ]
  },
  {
   "cell_type": "code",
   "execution_count": 38,
   "id": "18d93ca7-e4e8-421c-99c7-74ff67223139",
   "metadata": {},
   "outputs": [
    {
     "data": {
      "text/plain": [
       "'2000,2002,2004,2006,2008'"
      ]
     },
     "execution_count": 38,
     "metadata": {},
     "output_type": "execute_result"
    }
   ],
   "source": [
    "def even_digit_numbers(start, end):\n",
    "    return ','.join([str(num) for num in range(start, end + 1) if all(int(digit) % 2 == 0 for digit in str(num))])\n",
    "even_digit_numbers(1200, 2010)"
   ]
  },
  {
   "cell_type": "code",
   "execution_count": 39,
   "id": "6993ed54-d80b-4be6-a5ac-8e686ea31f07",
   "metadata": {},
   "outputs": [
    {
     "name": "stdout",
     "output_type": "stream",
     "text": [
      "Twinkle, twinkle, little star, \n",
      "\tHow I wonder what you are! \n",
      "\t\tUp above the world so high, \n",
      "\t\tLike a diamond in the sky. \n",
      "Twinkle, twinkle, little star, \n",
      "\tHow I wonder what you are!\n"
     ]
    }
   ],
   "source": [
    "print(\"Twinkle, twinkle, little star, \\n\\tHow I wonder what you are! \\n\\t\\tUp above the world so high, \\n\\t\\tLike a diamond in the sky. \\nTwinkle, twinkle, little star, \\n\\tHow I wonder what you are!\")\n"
   ]
  },
  {
   "cell_type": "code",
   "execution_count": 13,
   "id": "af506bd1-ba84-4927-b860-c543ce627d9c",
   "metadata": {},
   "outputs": [
    {
     "name": "stdout",
     "output_type": "stream",
     "text": [
      "{'letters': 11, 'Digits': 7}\n"
     ]
    }
   ],
   "source": [
    "# Count letters and digits \n",
    "def count_letters_and_digits (string):\n",
    "    count = {\"letters\": 0 ,\"Digits\":0}\n",
    "    for char in string:\n",
    "        if char.isalpha():\n",
    "            count[\"letters\"] +=1\n",
    "        elif char.isdigit ():\n",
    "            count[\"Digits\"]+= 1\n",
    "    return count\n",
    "print(count_letters_and_digits(\"Data123 Science 2024\"))"
   ]
  },
  {
   "cell_type": "code",
   "execution_count": 15,
   "id": "edab235c-be2e-4ff6-91c9-8eb2b58bf28b",
   "metadata": {},
   "outputs": [
    {
     "name": "stdout",
     "output_type": "stream",
     "text": [
      "{'uppercase': 2, 'Lowercase': 8}\n"
     ]
    }
   ],
   "source": [
    "#Count uppercase and lowercase\n",
    "def count_upper_lowercase(string):\n",
    "    count= {\"uppercase\":0,\"Lowercase\": 0}\n",
    "    for char in string :\n",
    "        if char.isupper():\n",
    "            count[\"uppercase\"]+=1\n",
    "        elif char.islower():\n",
    "            count[\"Lowercase\"]+=1\n",
    "    return count\n",
    "print(count_upper_lowercase(\"Hello World\"))"
   ]
  },
  {
   "cell_type": "code",
   "execution_count": 16,
   "id": "bc736864-e96c-4fb5-b8bb-38a336f7834b",
   "metadata": {},
   "outputs": [
    {
     "name": "stdout",
     "output_type": "stream",
     "text": [
      "division by zero!\n"
     ]
    }
   ],
   "source": [
    "# zero division\n",
    "def catch_zero_division():\n",
    "    try:\n",
    "        return 10 / 0\n",
    "    except ZeroDivisionError:\n",
    "        print(\"division by zero!\")\n",
    "catch_zero_division()"
   ]
  },
  {
   "cell_type": "code",
   "execution_count": 24,
   "id": "7ce891c2-5b87-4b38-a5eb-c863aae4e337",
   "metadata": {},
   "outputs": [
    {
     "name": "stdout",
     "output_type": "stream",
     "text": [
      "501\n"
     ]
    }
   ],
   "source": [
    "# recursive function\n",
    "def recursive_function(n):\n",
    "    if n == 0:\n",
    "        return 1\n",
    "    else:\n",
    "        return (recursive_function(n-1)+100)\n",
    "print(recursive_function(5)) "
   ]
  },
  {
   "cell_type": "code",
   "execution_count": 27,
   "id": "0fe0fa52-8306-4493-8e5a-3128d6afc818",
   "metadata": {},
   "outputs": [
    {
     "name": "stdout",
     "output_type": "stream",
     "text": [
      "[168, 162, 178, 246, 217]\n"
     ]
    }
   ],
   "source": [
    "# Import random number\n",
    "import random\n",
    "def generate_random_numbers(start,end):\n",
    "    return random.sample(range(start,end+1), 5)\n",
    "print(generate_random_numbers(150,250))"
   ]
  },
  {
   "cell_type": "code",
   "execution_count": 29,
   "id": "f8ce9c0a-7b96-4833-9433-2156001bd3ac",
   "metadata": {},
   "outputs": [
    {
     "name": "stdout",
     "output_type": "stream",
     "text": [
      "[180, 204, 182, 188, 158]\n"
     ]
    }
   ],
   "source": [
    "# import random even number\n",
    "import random\n",
    "def generate_even_numbers(start,end):\n",
    "    return random.sample([i for i in range(start,end+1) if i % 2 == 0], 5)\n",
    "print(generate_even_numbers(150,250))"
   ]
  },
  {
   "cell_type": "code",
   "execution_count": 31,
   "id": "28dc024c-5c2c-4a85-bae7-0c040e123958",
   "metadata": {},
   "outputs": [
    {
     "name": "stdout",
     "output_type": "stream",
     "text": [
      "Execution Time: 0.00030922889709472656 seconds\n"
     ]
    }
   ],
   "source": [
    "# Measure execution time\n",
    "import time\n",
    "def measure_execution_time():\n",
    "    start = time.time()\n",
    "    for _ in range(10000):\n",
    "        1 + 1\n",
    "    end = time.time()\n",
    "    return f\"Execution Time: {end - start} seconds\"\n",
    "print(measure_execution_time())"
   ]
  },
  {
   "cell_type": "code",
   "execution_count": 5,
   "id": "d3650196-4035-4375-8947-44cd9ab6a358",
   "metadata": {},
   "outputs": [
    {
     "data": {
      "text/plain": [
       "'1010,1111'"
      ]
     },
     "execution_count": 5,
     "metadata": {},
     "output_type": "execute_result"
    }
   ],
   "source": [
    "def binary_divisible_by_5(binaries):\n",
    "    return \",\".join([b for b in binaries.split(\",\") if int(b, 2) % 5 == 0])\n",
    "\n",
    "binaries = \"1101,1010,1111,1001\"\n",
    "binary_divisible_by_5(binaries)"
   ]
  },
  {
   "cell_type": "code",
   "execution_count": 7,
   "id": "3c3f5e61-15c6-4b8f-bf40-c3743be6036d",
   "metadata": {},
   "outputs": [
    {
     "data": {
      "text/plain": [
       "65.0"
      ]
     },
     "execution_count": 7,
     "metadata": {},
     "output_type": "execute_result"
    }
   ],
   "source": [
    "8 ** 2 + 12 / 4 * (3 -1) % 5"
   ]
  },
  {
   "cell_type": "code",
   "execution_count": null,
   "id": "3ece5657-bc69-4b95-9b0b-5b156f1f0450",
   "metadata": {},
   "outputs": [],
   "source": []
  }
 ],
 "metadata": {
  "kernelspec": {
   "display_name": "Python 3 (ipykernel)",
   "language": "python",
   "name": "python3"
  },
  "language_info": {
   "codemirror_mode": {
    "name": "ipython",
    "version": 3
   },
   "file_extension": ".py",
   "mimetype": "text/x-python",
   "name": "python",
   "nbconvert_exporter": "python",
   "pygments_lexer": "ipython3",
   "version": "3.13.5"
  }
 },
 "nbformat": 4,
 "nbformat_minor": 5
}
