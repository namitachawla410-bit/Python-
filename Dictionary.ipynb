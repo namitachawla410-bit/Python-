{
 "cells": [
  {
   "cell_type": "code",
   "execution_count": 15,
   "id": "831556bd-ceb3-4ae6-b44e-38640c721f0d",
   "metadata": {},
   "outputs": [
    {
     "name": "stdout",
     "output_type": "stream",
     "text": [
      "<class 'dict'>\n",
      "namita\n",
      "9.2\n"
     ]
    }
   ],
   "source": [
    "student = {\n",
    "    \"Name\":\"namita\",\n",
    "    \"Age\" : 25,\n",
    "    \"course\" : \"data analyst\",\n",
    "    \"marks\" : 9.2\n",
    "}\n",
    "print(type(student))\n",
    "print(student[\"Name\"])\n",
    "print(student[\"marks\"])"
   ]
  },
  {
   "cell_type": "code",
   "execution_count": 41,
   "id": "db55511c-635d-4a69-8ee9-d96123bc5496",
   "metadata": {},
   "outputs": [
    {
     "name": "stdout",
     "output_type": "stream",
     "text": [
      "{'Name': 'Saloni', 'Age': 25, 'course': 'data analytics', 'marks': 9.2}\n",
      "{'Name': 'Saloni', 'Age': 25, 'course': 'data analytics', 'marks': 9.2, 'Subject': 'python'}\n",
      "{'Name': 'Saloni', 'Age': 25, 'course': 'data analytics', 'marks': 9.2, 'Subject': 'python', 'city': 'Hansi'}\n"
     ]
    }
   ],
   "source": [
    "student= {\n",
    "    \"Name\":\"namita\",\n",
    "    \"Age\" : 25,\n",
    "    \"course\" : \"data analytics\",\n",
    "    \"marks\" : 9.2\n",
    "}\n",
    "\n",
    "student[\"Name\"] = \"Saloni\"  # update the dictionary\n",
    "print(student)\n",
    "\n",
    "student[\"Subject\"] =\"python\"   # add new key to the dictionary\n",
    "print(student)\n",
    "\n",
    "student.update({\"city\":\"Hansi\"})  #update new key \n",
    "print(student)\n",
    "\n",
    "\n",
    "\n"
   ]
  },
  {
   "cell_type": "code",
   "execution_count": 21,
   "id": "e7b94a1c-078e-4583-b733-de6daeb3f6c8",
   "metadata": {},
   "outputs": [
    {
     "name": "stdout",
     "output_type": "stream",
     "text": [
      "{'Name': 'Himanshu', 'course': 'Math', 'age': '28'}\n",
      "Namita\n"
     ]
    }
   ],
   "source": [
    "#nested dictionary\n",
    "students = {\n",
    "    \"s1\": {\"Name\":\"Namita\",\"course\":\"Python \",\"age\":\"25\",} ,\n",
    "    \"s2\": {\"Name\":\"Himanshu\",\"course\":\"Math\",\"age\":\"28\"}\n",
    "}\n",
    "print(students[\"s2\"])\n",
    "print(students[\"s1\"][\"Name\"])\n"
   ]
  },
  {
   "cell_type": "code",
   "execution_count": 29,
   "id": "0760dd22-3a50-45e3-a960-ef82fd3de8bb",
   "metadata": {},
   "outputs": [
    {
     "name": "stdout",
     "output_type": "stream",
     "text": [
      "dict_keys(['s1', 's2'])\n",
      "dict_values([{'Name': 'Namita', 'course': 'Python ', 'age': '25'}, {'Name': 'Himanshu', 'course': 'Math', 'age': '28'}])\n",
      "dict_items([('s1', {'Name': 'Namita', 'course': 'Python ', 'age': '25'}), ('s2', {'Name': 'Himanshu', 'course': 'Math', 'age': '28'})])\n",
      "2\n"
     ]
    }
   ],
   "source": [
    "#nested dictionary\n",
    "students = {\n",
    "    \"s1\": {\"Name\":\"Namita\",\"course\":\"Python \",\"age\":\"25\",} ,\n",
    "    \"s2\": {\"Name\":\"Himanshu\",\"course\":\"Math\",\"age\":\"28\"}\n",
    "}\n",
    "\n",
    "print(students.keys())  #  gives all keys in dictionary\n",
    "\n",
    "print(students.values())  # gives all values\n",
    "\n",
    "print(students.items())  # gives all (keys and values) in a tuple\n",
    "\n",
    "print(len(students))\n"
   ]
  },
  {
   "cell_type": "code",
   "execution_count": 5,
   "id": "5873e338-bc9b-4b31-a40c-81c026ff309c",
   "metadata": {},
   "outputs": [
    {
     "name": "stdout",
     "output_type": "stream",
     "text": [
      "{'table': ('a piece of furniture', 'list of facts and figures'), 'cat': 'a small animal'}\n"
     ]
    }
   ],
   "source": [
    "# store words in python dictionary   \n",
    "dict ={\n",
    "   \"table\" :(\"a piece of furniture\" ,\"list of facts and figures\"),\n",
    "    \"cat\" :\"a small animal\"\n",
    "}\n",
    "print(dict)\n"
   ]
  },
  {
   "cell_type": "code",
   "execution_count": 6,
   "id": "f5feb63f-b8e4-4ff6-8bf5-6f4b123823d9",
   "metadata": {},
   "outputs": [
    {
     "name": "stdin",
     "output_type": "stream",
     "text": [
      "enter the marks of math : 92\n",
      "enter the marks of science: 84\n",
      "enter the marks of English : 87\n"
     ]
    },
    {
     "name": "stdout",
     "output_type": "stream",
     "text": [
      "{'MATH': 92, 'Science': 84, 'English': 87}\n"
     ]
    }
   ],
   "source": [
    "# write a program to input marks of three subjects in an empty dictionary\n",
    "Dictionary = {}\n",
    "X= int(input(\"enter the marks of math :\"))\n",
    "Dictionary.update({\"MATH\":X})\n",
    "\n",
    "Y = int(input(\"enter the marks of science:\"))\n",
    "Dictionary.update({\"Science\": Y})\n",
    "\n",
    "Z = int(input(\"enter the marks of English :\"))\n",
    "Dictionary.update({\"English\": Z})\n",
    "\n",
    "print(Dictionary)\n"
   ]
  },
  {
   "cell_type": "code",
   "execution_count": 1,
   "id": "e8edbec4-b3c1-4b27-a75a-4774bb575e3c",
   "metadata": {},
   "outputs": [
    {
     "name": "stdout",
     "output_type": "stream",
     "text": [
      "The key 'age' exists in the dictionary.\n"
     ]
    }
   ],
   "source": [
    "# check age key exists or not\n",
    "person = {\"name\": \"Namita\", \"age\": 25, \"city\": \"Hansi\"}\n",
    "\n",
    "if \"age\" in person:\n",
    "    print(\"The key 'age' exists in the dictionary.\")\n",
    "else:\n",
    "    print(\"The key 'age' does not exist in the dictionary.\")\n"
   ]
  },
  {
   "cell_type": "code",
   "execution_count": null,
   "id": "98950d3a-037b-4257-89af-782a8c65964d",
   "metadata": {},
   "outputs": [],
   "source": []
  }
 ],
 "metadata": {
  "kernelspec": {
   "display_name": "Python 3 (ipykernel)",
   "language": "python",
   "name": "python3"
  },
  "language_info": {
   "codemirror_mode": {
    "name": "ipython",
    "version": 3
   },
   "file_extension": ".py",
   "mimetype": "text/x-python",
   "name": "python",
   "nbconvert_exporter": "python",
   "pygments_lexer": "ipython3",
   "version": "3.13.5"
  }
 },
 "nbformat": 4,
 "nbformat_minor": 5
}
