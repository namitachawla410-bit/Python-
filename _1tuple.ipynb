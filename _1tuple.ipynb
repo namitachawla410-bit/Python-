{
 "cells": [
  {
   "cell_type": "code",
   "execution_count": 9,
   "id": "aeaa35a0-5af8-4bd5-b8e0-9251f1e3f3ff",
   "metadata": {},
   "outputs": [
    {
     "name": "stdout",
     "output_type": "stream",
     "text": [
      "MANGO\n",
      "BLACKBERRY\n"
     ]
    }
   ],
   "source": [
    "FRUITS = (\"MANGO\",\"GRAPES\",\"ORANGE\",\"CHERRY\",\"BLACKBERRY\")\n",
    "print(FRUITS[0])\n",
    "print(FRUITS[-1])"
   ]
  },
  {
   "cell_type": "code",
   "execution_count": 12,
   "id": "9f7b3b87-9811-4b7e-95a5-7171c8419a67",
   "metadata": {},
   "outputs": [
    {
     "name": "stdout",
     "output_type": "stream",
     "text": [
      "Name: HIMANSHU\n",
      "Age: 26\n",
      "Grade: A\n"
     ]
    }
   ],
   "source": [
    "# Store student details in a tuple\n",
    "student = (\"HIMANSHU\", 26, \"A\")\n",
    "\n",
    "name ,age ,grade = student\n",
    "print(\"Name:\", name)\n",
    "print(\"Age:\", age)\n",
    "print(\"Grade:\", grade)\n"
   ]
  },
  {
   "cell_type": "code",
   "execution_count": 14,
   "id": "cc731698-1209-458b-ae54-c63fb057bf25",
   "metadata": {},
   "outputs": [
    {
     "name": "stdout",
     "output_type": "stream",
     "text": [
      "2\n"
     ]
    }
   ],
   "source": [
    "FRUITS = (\"MANGO\",\"APPLE\",\"STRAWBERRY\",\"GRAPES\",\"CHERRY\",\"APPLE\",\"BLACKBERRY\")\n",
    "print(FRUITS.count(\"APPLE\"))"
   ]
  },
  {
   "cell_type": "code",
   "execution_count": 1,
   "id": "a52415af-9f82-4d3e-9f38-9ef18f40ec1c",
   "metadata": {},
   "outputs": [
    {
     "name": "stdout",
     "output_type": "stream",
     "text": [
      "2\n",
      "4\n",
      "56\n",
      "14\n",
      "22\n",
      "78\n",
      "20\n",
      "28\n"
     ]
    }
   ],
   "source": [
    "numbers = 1,2,3,4,56,14,15,11,22,78,20,28,65\n",
    "for i in numbers:\n",
    "    if i % 2 == 0 :\n",
    "        print(i)"
   ]
  },
  {
   "cell_type": "code",
   "execution_count": 31,
   "id": "8949a375-7807-48dc-b6e3-a3b26a72342a",
   "metadata": {},
   "outputs": [
    {
     "name": "stdout",
     "output_type": "stream",
     "text": [
      "ROHIT marks: 95\n",
      "{'ROHIT': 95, 'RAHUL': 62, 'AMIT': 82, 'subject': 'MATH'}\n"
     ]
    }
   ],
   "source": [
    "# Creating a dictionary of 3 students with their marks\n",
    "students = {\n",
    "    \"ROHIT\": 95,\n",
    "    \"RAHUL\": 62,\n",
    "    \"AMIT\": 82   }\n",
    "\n",
    "\n",
    "# Printing the marks of one student\n",
    "print(\"ROHIT marks:\", students[\"ROHIT\"])\n",
    "\n",
    "students[\"subject\"]= (\"MATH\")\n",
    "print(students)\n"
   ]
  },
  {
   "cell_type": "code",
   "execution_count": 33,
   "id": "5ceb83c2-4671-4132-b2af-977318bb9704",
   "metadata": {},
   "outputs": [
    {
     "name": "stdout",
     "output_type": "stream",
     "text": [
      "name: NAMITA\n",
      "age: 25\n",
      "city: HANSI\n"
     ]
    }
   ],
   "source": [
    "\n",
    "my_dict = {\n",
    "    \"name\": \"NAMITA\",\n",
    "    \"age\": 25,\n",
    "    \"city\": \"HANSI\"\n",
    "}\n",
    "for key, value in my_dict.items():\n",
    "    print(f\"{key}: {value}\")\n"
   ]
  },
  {
   "cell_type": "code",
   "execution_count": 36,
   "id": "bcaf51ee-9d22-4343-9aca-d06259ff1732",
   "metadata": {},
   "outputs": [
    {
     "name": "stdout",
     "output_type": "stream",
     "text": [
      "himani\n",
      "namita\n"
     ]
    }
   ],
   "source": [
    "# Nested dictionary of students\n",
    "students = {\n",
    "    \"student1\": {\n",
    "        \"name\": \"himani\",\n",
    "        \"age\": 25,\n",
    "        \"mark\": 78\n",
    "    },\n",
    "    \"student2\": {\n",
    "        \"name\": \"namita\",\n",
    "        \"age\": 26,\n",
    "        \"mark\": 65\n",
    "    }\n",
    "}\n",
    "for key in students:\n",
    "    print(students[key][\"name\"])\n"
   ]
  },
  {
   "cell_type": "code",
   "execution_count": null,
   "id": "bdca9e60-4978-437d-885f-d66768dcc091",
   "metadata": {},
   "outputs": [],
   "source": []
  }
 ],
 "metadata": {
  "kernelspec": {
   "display_name": "Python 3 (ipykernel)",
   "language": "python",
   "name": "python3"
  },
  "language_info": {
   "codemirror_mode": {
    "name": "ipython",
    "version": 3
   },
   "file_extension": ".py",
   "mimetype": "text/x-python",
   "name": "python",
   "nbconvert_exporter": "python",
   "pygments_lexer": "ipython3",
   "version": "3.13.5"
  }
 },
 "nbformat": 4,
 "nbformat_minor": 5
}
